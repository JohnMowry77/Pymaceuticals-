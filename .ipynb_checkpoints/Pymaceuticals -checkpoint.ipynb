{
 "cells": [
  {
   "cell_type": "markdown",
   "metadata": {},
   "source": [
    "## Observations and Insights "
   ]
  },
  {
   "cell_type": "markdown",
   "metadata": {},
   "source": []
  },
  {
   "cell_type": "code",
   "execution_count": 1,
   "metadata": {},
   "outputs": [],
   "source": [
    "# Dependencies and Setup\n",
    "import matplotlib.pyplot as plt\n",
    "import pandas as pd\n",
    "import scipy.stats as sts #can we get sem with this?\n",
    "import numpy as np\n",
    "from scipy.stats import linregress\n",
    "\n",
    "import scipy.stats as sem # the way you write this is different. rewatch class here\n",
    "#import sem seperately # as is alias \n",
    "# Study data files\n",
    "mouse_metadata_path = \"data/Mouse_metadata.csv\"\n",
    "study_results_path = \"data/Study_results.csv\"\n",
    "\n",
    "# Read the mouse data and the study results\n",
    "mouse_metadata = pd.read_csv(mouse_metadata_path)\n",
    "study_results = pd.read_csv(study_results_path)\n",
    "\n",
    "# Combine the data into a single dataset\n",
    "\n",
    "# Merge the two DataFrames together based on the Dates they share\n",
    "all_mice_data = pd.merge(mouse_metadata, study_results, on=\"Mouse ID\")\n",
    "\n",
    "# Display the data table for preview\n",
    "#all_mice_data.head()"
   ]
  },
  {
   "cell_type": "code",
   "execution_count": 2,
   "metadata": {},
   "outputs": [],
   "source": [
    "#mouse_metadata.head()   # Shows you the mouse_metadata original columns pre merge"
   ]
  },
  {
   "cell_type": "code",
   "execution_count": 3,
   "metadata": {},
   "outputs": [],
   "source": [
    "#study_results.head() # Shows you the study_results original columns pre merge"
   ]
  },
  {
   "cell_type": "code",
   "execution_count": 4,
   "metadata": {},
   "outputs": [
    {
     "data": {
      "text/html": [
       "<div>\n",
       "<style scoped>\n",
       "    .dataframe tbody tr th:only-of-type {\n",
       "        vertical-align: middle;\n",
       "    }\n",
       "\n",
       "    .dataframe tbody tr th {\n",
       "        vertical-align: top;\n",
       "    }\n",
       "\n",
       "    .dataframe thead th {\n",
       "        text-align: right;\n",
       "    }\n",
       "</style>\n",
       "<table border=\"1\" class=\"dataframe\">\n",
       "  <thead>\n",
       "    <tr style=\"text-align: right;\">\n",
       "      <th></th>\n",
       "      <th>Mouse ID</th>\n",
       "      <th>Drug Regimen</th>\n",
       "      <th>Sex</th>\n",
       "      <th>Age_months</th>\n",
       "      <th>Weight (g)</th>\n",
       "      <th>Timepoint</th>\n",
       "      <th>Tumor Volume (mm3)</th>\n",
       "      <th>Metastatic Sites</th>\n",
       "    </tr>\n",
       "  </thead>\n",
       "  <tbody>\n",
       "    <tr>\n",
       "      <th>0</th>\n",
       "      <td>k403</td>\n",
       "      <td>Ramicane</td>\n",
       "      <td>Male</td>\n",
       "      <td>21</td>\n",
       "      <td>16</td>\n",
       "      <td>0</td>\n",
       "      <td>45.000000</td>\n",
       "      <td>0</td>\n",
       "    </tr>\n",
       "    <tr>\n",
       "      <th>1</th>\n",
       "      <td>k403</td>\n",
       "      <td>Ramicane</td>\n",
       "      <td>Male</td>\n",
       "      <td>21</td>\n",
       "      <td>16</td>\n",
       "      <td>5</td>\n",
       "      <td>38.825898</td>\n",
       "      <td>0</td>\n",
       "    </tr>\n",
       "    <tr>\n",
       "      <th>2</th>\n",
       "      <td>k403</td>\n",
       "      <td>Ramicane</td>\n",
       "      <td>Male</td>\n",
       "      <td>21</td>\n",
       "      <td>16</td>\n",
       "      <td>10</td>\n",
       "      <td>35.014271</td>\n",
       "      <td>1</td>\n",
       "    </tr>\n",
       "    <tr>\n",
       "      <th>3</th>\n",
       "      <td>k403</td>\n",
       "      <td>Ramicane</td>\n",
       "      <td>Male</td>\n",
       "      <td>21</td>\n",
       "      <td>16</td>\n",
       "      <td>15</td>\n",
       "      <td>34.223992</td>\n",
       "      <td>1</td>\n",
       "    </tr>\n",
       "    <tr>\n",
       "      <th>4</th>\n",
       "      <td>k403</td>\n",
       "      <td>Ramicane</td>\n",
       "      <td>Male</td>\n",
       "      <td>21</td>\n",
       "      <td>16</td>\n",
       "      <td>20</td>\n",
       "      <td>32.997729</td>\n",
       "      <td>1</td>\n",
       "    </tr>\n",
       "    <tr>\n",
       "      <th>...</th>\n",
       "      <td>...</td>\n",
       "      <td>...</td>\n",
       "      <td>...</td>\n",
       "      <td>...</td>\n",
       "      <td>...</td>\n",
       "      <td>...</td>\n",
       "      <td>...</td>\n",
       "      <td>...</td>\n",
       "    </tr>\n",
       "    <tr>\n",
       "      <th>1888</th>\n",
       "      <td>z969</td>\n",
       "      <td>Naftisol</td>\n",
       "      <td>Male</td>\n",
       "      <td>9</td>\n",
       "      <td>30</td>\n",
       "      <td>25</td>\n",
       "      <td>63.145652</td>\n",
       "      <td>2</td>\n",
       "    </tr>\n",
       "    <tr>\n",
       "      <th>1889</th>\n",
       "      <td>z969</td>\n",
       "      <td>Naftisol</td>\n",
       "      <td>Male</td>\n",
       "      <td>9</td>\n",
       "      <td>30</td>\n",
       "      <td>30</td>\n",
       "      <td>65.841013</td>\n",
       "      <td>3</td>\n",
       "    </tr>\n",
       "    <tr>\n",
       "      <th>1890</th>\n",
       "      <td>z969</td>\n",
       "      <td>Naftisol</td>\n",
       "      <td>Male</td>\n",
       "      <td>9</td>\n",
       "      <td>30</td>\n",
       "      <td>35</td>\n",
       "      <td>69.176246</td>\n",
       "      <td>4</td>\n",
       "    </tr>\n",
       "    <tr>\n",
       "      <th>1891</th>\n",
       "      <td>z969</td>\n",
       "      <td>Naftisol</td>\n",
       "      <td>Male</td>\n",
       "      <td>9</td>\n",
       "      <td>30</td>\n",
       "      <td>40</td>\n",
       "      <td>70.314904</td>\n",
       "      <td>4</td>\n",
       "    </tr>\n",
       "    <tr>\n",
       "      <th>1892</th>\n",
       "      <td>z969</td>\n",
       "      <td>Naftisol</td>\n",
       "      <td>Male</td>\n",
       "      <td>9</td>\n",
       "      <td>30</td>\n",
       "      <td>45</td>\n",
       "      <td>73.867845</td>\n",
       "      <td>4</td>\n",
       "    </tr>\n",
       "  </tbody>\n",
       "</table>\n",
       "<p>1893 rows × 8 columns</p>\n",
       "</div>"
      ],
      "text/plain": [
       "     Mouse ID Drug Regimen   Sex  Age_months  Weight (g)  Timepoint  \\\n",
       "0        k403     Ramicane  Male          21          16          0   \n",
       "1        k403     Ramicane  Male          21          16          5   \n",
       "2        k403     Ramicane  Male          21          16         10   \n",
       "3        k403     Ramicane  Male          21          16         15   \n",
       "4        k403     Ramicane  Male          21          16         20   \n",
       "...       ...          ...   ...         ...         ...        ...   \n",
       "1888     z969     Naftisol  Male           9          30         25   \n",
       "1889     z969     Naftisol  Male           9          30         30   \n",
       "1890     z969     Naftisol  Male           9          30         35   \n",
       "1891     z969     Naftisol  Male           9          30         40   \n",
       "1892     z969     Naftisol  Male           9          30         45   \n",
       "\n",
       "      Tumor Volume (mm3)  Metastatic Sites  \n",
       "0              45.000000                 0  \n",
       "1              38.825898                 0  \n",
       "2              35.014271                 1  \n",
       "3              34.223992                 1  \n",
       "4              32.997729                 1  \n",
       "...                  ...               ...  \n",
       "1888           63.145652                 2  \n",
       "1889           65.841013                 3  \n",
       "1890           69.176246                 4  \n",
       "1891           70.314904                 4  \n",
       "1892           73.867845                 4  \n",
       "\n",
       "[1893 rows x 8 columns]"
      ]
     },
     "execution_count": 4,
     "metadata": {},
     "output_type": "execute_result"
    }
   ],
   "source": [
    "#assign all_mice_data to the pandas dataframe module, use the merged data above\n",
    "all_mice_data=pd.DataFrame(all_mice_data)\n",
    "all_mice_data #.dtypes"
   ]
  },
  {
   "cell_type": "code",
   "execution_count": 5,
   "metadata": {},
   "outputs": [],
   "source": [
    "#Remember, there are many ways to approach a data problem. The key is to break up your task into micro tasks. \n",
    "#Try answering questions like:\n",
    "\n",
    "#How does my DataFrame need to be structured for me to have the right _x_-axis and _y_-axis?\n",
    "#x_axis is Drug Regimen, # of samples is y axis \n",
    "\n",
    "#How do I build a basic scatter plot?\n",
    "\n",
    "#How do I add a label to that scatter plot?\n",
    "\n",
    "#Where would the labels for that scatter plot come from?"
   ]
  },
  {
   "cell_type": "code",
   "execution_count": 6,
   "metadata": {},
   "outputs": [],
   "source": [
    "#all_mice_data.columns #show the names of the current columns"
   ]
  },
  {
   "cell_type": "code",
   "execution_count": 7,
   "metadata": {},
   "outputs": [
    {
     "data": {
      "text/plain": [
       "249"
      ]
     },
     "execution_count": 7,
     "metadata": {},
     "output_type": "execute_result"
    }
   ],
   "source": [
    "# Checking the number of mice. \n",
    "mice_count=len(all_mice_data[\"Mouse ID\"].unique())\n",
    "mice_count"
   ]
  },
  {
   "cell_type": "code",
   "execution_count": 8,
   "metadata": {},
   "outputs": [],
   "source": [
    "#filter_mouse_ID=all_mice_data.loc[:, 'Mouse ID']== ['']\n",
    "#all_mice_data.loc[:, \"Mouse ID\"].unique()\n",
    "#Error lengths much match to compare"
   ]
  },
  {
   "cell_type": "code",
   "execution_count": 9,
   "metadata": {},
   "outputs": [],
   "source": [
    "# create a filter_df where 'Mouse ID' is '?'\n",
    "\n",
    "#filter_df=all_mice_data.loc[:, 'Mouse ID']=='False'\n",
    "\n",
    "# df.drop() allows you to pass as argument a list or indices \n",
    "# we have to firstly use df[filter_df] to get a reduced df\n",
    "\n",
    "#filtered_mouse=all_mice_data.drop(all_mice_data[filter_df].index)\n",
    "#filtered_mouse\n",
    "#filtered_mouse.count"
   ]
  },
  {
   "cell_type": "code",
   "execution_count": 10,
   "metadata": {},
   "outputs": [
    {
     "data": {
      "text/plain": [
       "array(['g989'], dtype=object)"
      ]
     },
     "execution_count": 10,
     "metadata": {},
     "output_type": "execute_result"
    }
   ],
   "source": [
    "# Getting the duplicate mice by ID number that shows up for Mouse ID and Timepoint.\n",
    "\n",
    "#PortlandCrime Solved  also #Cleaning Data 04-Pandas/2/Activities/03-Ins_CleaningData/Solved/CleaningData.ipynb\n",
    "#duplicates= all_mice_data.duplicated(subset=(['Mouse ID', 'Timepoint']))\n",
    "#duplicates= all_mice_data.duplicated(subset=(['Mouse ID']))\n",
    "#duplicates.loc[True]\n",
    "#duplicates.head() #Will show False \n",
    "#all_mice_data.loc[duplicates, 'Mouse ID']\n",
    "#duplicates.count()\n",
    "\n",
    "duplicate_mice_filter=all_mice_data.duplicated(subset=['Mouse ID', 'Timepoint'], keep=False)==True\n",
    "\n",
    "# Optional: Get all the data for the duplicate mouse ID. \n",
    "duplicate_mice_study_df=all_mice_data.loc[duplicate_mice_filter,:]\n",
    "duplicate_mice_ID=duplicate_mice_study_df['Mouse ID'].unique()\n",
    "duplicate_mice_ID\n",
    "#duplicate_mice_filter.head()\n",
    "\n",
    "# Getting the unqiue mice by ID number that shows up for Mouse Id and Timepoint:\n",
    "#unique_mice_filter=all_mice_data.duplicated(subset=[\"Mouse ID\", \"Timepoint\"], keep=False)==True\n",
    "\n",
    "\n",
    "#unique_mice_study=all_mice_data.loc[unique_mice_filter,:]\n",
    "#unique_mice_study.head(10)\n",
    "#unique_mice_study=all_mice_data.df.drop(duplicate_mice_id,0)"
   ]
  },
  {
   "cell_type": "code",
   "execution_count": 11,
   "metadata": {},
   "outputs": [
    {
     "data": {
      "text/html": [
       "<div>\n",
       "<style scoped>\n",
       "    .dataframe tbody tr th:only-of-type {\n",
       "        vertical-align: middle;\n",
       "    }\n",
       "\n",
       "    .dataframe tbody tr th {\n",
       "        vertical-align: top;\n",
       "    }\n",
       "\n",
       "    .dataframe thead th {\n",
       "        text-align: right;\n",
       "    }\n",
       "</style>\n",
       "<table border=\"1\" class=\"dataframe\">\n",
       "  <thead>\n",
       "    <tr style=\"text-align: right;\">\n",
       "      <th></th>\n",
       "      <th>Mouse ID</th>\n",
       "      <th>Drug Regimen</th>\n",
       "      <th>Sex</th>\n",
       "      <th>Age_months</th>\n",
       "      <th>Weight (g)</th>\n",
       "      <th>Timepoint</th>\n",
       "      <th>Tumor Volume (mm3)</th>\n",
       "      <th>Metastatic Sites</th>\n",
       "    </tr>\n",
       "  </thead>\n",
       "  <tbody>\n",
       "    <tr>\n",
       "      <th>0</th>\n",
       "      <td>k403</td>\n",
       "      <td>Ramicane</td>\n",
       "      <td>Male</td>\n",
       "      <td>21</td>\n",
       "      <td>16</td>\n",
       "      <td>0</td>\n",
       "      <td>45.000000</td>\n",
       "      <td>0</td>\n",
       "    </tr>\n",
       "    <tr>\n",
       "      <th>1</th>\n",
       "      <td>k403</td>\n",
       "      <td>Ramicane</td>\n",
       "      <td>Male</td>\n",
       "      <td>21</td>\n",
       "      <td>16</td>\n",
       "      <td>5</td>\n",
       "      <td>38.825898</td>\n",
       "      <td>0</td>\n",
       "    </tr>\n",
       "    <tr>\n",
       "      <th>2</th>\n",
       "      <td>k403</td>\n",
       "      <td>Ramicane</td>\n",
       "      <td>Male</td>\n",
       "      <td>21</td>\n",
       "      <td>16</td>\n",
       "      <td>10</td>\n",
       "      <td>35.014271</td>\n",
       "      <td>1</td>\n",
       "    </tr>\n",
       "    <tr>\n",
       "      <th>3</th>\n",
       "      <td>k403</td>\n",
       "      <td>Ramicane</td>\n",
       "      <td>Male</td>\n",
       "      <td>21</td>\n",
       "      <td>16</td>\n",
       "      <td>15</td>\n",
       "      <td>34.223992</td>\n",
       "      <td>1</td>\n",
       "    </tr>\n",
       "    <tr>\n",
       "      <th>4</th>\n",
       "      <td>k403</td>\n",
       "      <td>Ramicane</td>\n",
       "      <td>Male</td>\n",
       "      <td>21</td>\n",
       "      <td>16</td>\n",
       "      <td>20</td>\n",
       "      <td>32.997729</td>\n",
       "      <td>1</td>\n",
       "    </tr>\n",
       "    <tr>\n",
       "      <th>...</th>\n",
       "      <td>...</td>\n",
       "      <td>...</td>\n",
       "      <td>...</td>\n",
       "      <td>...</td>\n",
       "      <td>...</td>\n",
       "      <td>...</td>\n",
       "      <td>...</td>\n",
       "      <td>...</td>\n",
       "    </tr>\n",
       "    <tr>\n",
       "      <th>1888</th>\n",
       "      <td>z969</td>\n",
       "      <td>Naftisol</td>\n",
       "      <td>Male</td>\n",
       "      <td>9</td>\n",
       "      <td>30</td>\n",
       "      <td>25</td>\n",
       "      <td>63.145652</td>\n",
       "      <td>2</td>\n",
       "    </tr>\n",
       "    <tr>\n",
       "      <th>1889</th>\n",
       "      <td>z969</td>\n",
       "      <td>Naftisol</td>\n",
       "      <td>Male</td>\n",
       "      <td>9</td>\n",
       "      <td>30</td>\n",
       "      <td>30</td>\n",
       "      <td>65.841013</td>\n",
       "      <td>3</td>\n",
       "    </tr>\n",
       "    <tr>\n",
       "      <th>1890</th>\n",
       "      <td>z969</td>\n",
       "      <td>Naftisol</td>\n",
       "      <td>Male</td>\n",
       "      <td>9</td>\n",
       "      <td>30</td>\n",
       "      <td>35</td>\n",
       "      <td>69.176246</td>\n",
       "      <td>4</td>\n",
       "    </tr>\n",
       "    <tr>\n",
       "      <th>1891</th>\n",
       "      <td>z969</td>\n",
       "      <td>Naftisol</td>\n",
       "      <td>Male</td>\n",
       "      <td>9</td>\n",
       "      <td>30</td>\n",
       "      <td>40</td>\n",
       "      <td>70.314904</td>\n",
       "      <td>4</td>\n",
       "    </tr>\n",
       "    <tr>\n",
       "      <th>1892</th>\n",
       "      <td>z969</td>\n",
       "      <td>Naftisol</td>\n",
       "      <td>Male</td>\n",
       "      <td>9</td>\n",
       "      <td>30</td>\n",
       "      <td>45</td>\n",
       "      <td>73.867845</td>\n",
       "      <td>4</td>\n",
       "    </tr>\n",
       "  </tbody>\n",
       "</table>\n",
       "<p>1880 rows × 8 columns</p>\n",
       "</div>"
      ],
      "text/plain": [
       "     Mouse ID Drug Regimen   Sex  Age_months  Weight (g)  Timepoint  \\\n",
       "0        k403     Ramicane  Male          21          16          0   \n",
       "1        k403     Ramicane  Male          21          16          5   \n",
       "2        k403     Ramicane  Male          21          16         10   \n",
       "3        k403     Ramicane  Male          21          16         15   \n",
       "4        k403     Ramicane  Male          21          16         20   \n",
       "...       ...          ...   ...         ...         ...        ...   \n",
       "1888     z969     Naftisol  Male           9          30         25   \n",
       "1889     z969     Naftisol  Male           9          30         30   \n",
       "1890     z969     Naftisol  Male           9          30         35   \n",
       "1891     z969     Naftisol  Male           9          30         40   \n",
       "1892     z969     Naftisol  Male           9          30         45   \n",
       "\n",
       "      Tumor Volume (mm3)  Metastatic Sites  \n",
       "0              45.000000                 0  \n",
       "1              38.825898                 0  \n",
       "2              35.014271                 1  \n",
       "3              34.223992                 1  \n",
       "4              32.997729                 1  \n",
       "...                  ...               ...  \n",
       "1888           63.145652                 2  \n",
       "1889           65.841013                 3  \n",
       "1890           69.176246                 4  \n",
       "1891           70.314904                 4  \n",
       "1892           73.867845                 4  \n",
       "\n",
       "[1880 rows x 8 columns]"
      ]
     },
     "execution_count": 11,
     "metadata": {},
     "output_type": "execute_result"
    }
   ],
   "source": [
    "#Create a clean DataFrame by dropping the duplicate mouse by its ID\n",
    "duplicate_mouse=all_mice_data.loc[all_mice_data.duplicated(subset=[\"Mouse ID\", \"Timepoint\"]), \"Mouse ID\"].unique()\n",
    "#test=all_mice_data(all_mice_data[\"Mouse ID\"]=='g989'\n",
    "#test\n",
    "cleaned_df=all_mice_data[all_mice_data[\"Mouse ID\"].isin(duplicate_mouse)==False]\n",
    "cleaned_df  "
   ]
  },
  {
   "cell_type": "code",
   "execution_count": 12,
   "metadata": {},
   "outputs": [
    {
     "data": {
      "text/plain": [
       "248"
      ]
     },
     "execution_count": 12,
     "metadata": {},
     "output_type": "execute_result"
    }
   ],
   "source": [
    "# Checking the number of mice in the clean DataFrame\n",
    "len(cleaned_df[\"Mouse ID\"].unique())"
   ]
  },
  {
   "cell_type": "code",
   "execution_count": 13,
   "metadata": {},
   "outputs": [],
   "source": [
    "#by default it removes duplicate rows based on all columns\n",
    "#to remove duplicates on specific column(s), use subset\n",
    "#to remove duplicates and keep last occurences, use keep\n",
    "#df = pd.DataFrame({\n",
    "#    'brand': ['Yum Yum', 'Yum Yum', 'Indomie', 'Indomie', 'Indomie'],\n",
    "#    'style': ['cup', 'cup', 'cup', 'pack', 'pack'],\n",
    "#     'rating': [4, 4, 3.5, 15, 5]\n",
    "#})\n",
    "#df\n",
    "\n",
    "#commit here "
   ]
  },
  {
   "cell_type": "code",
   "execution_count": 14,
   "metadata": {},
   "outputs": [],
   "source": [
    "#To remove duplicates and keep last occurrences, use keep.\n",
    "#df.drop_duplicates(subset=['brand', 'style'], keep='last')\n",
    "\n",
    "#df.drop_duplicates(subset=['brand'])"
   ]
  },
  {
   "cell_type": "code",
   "execution_count": 15,
   "metadata": {},
   "outputs": [],
   "source": [
    "#all_mice_data.dtypes"
   ]
  },
  {
   "cell_type": "code",
   "execution_count": 16,
   "metadata": {},
   "outputs": [],
   "source": [
    "#clean_mice=all_mice_data.sort_values(by=['Mouse ID', 'Timepoint'])\n",
    "#clean_mice.head()"
   ]
  },
  {
   "cell_type": "code",
   "execution_count": 17,
   "metadata": {},
   "outputs": [],
   "source": [
    "# Create a clean DataFrame by dropping the duplicate mouse by its ID.\n",
    "\n",
    "#clean_mice_data=df.drop_duplicates(subset=['Mouse ID', keep='False')\n",
    "#clean_mice_data\n",
    "# where to put the df you are calling. \n",
    "# the way to remember is whenever you see a method, look to the left of the.\n",
    "\n",
    "#clean_mice_df = all_mice_data.drop_duplicates(subset=['Mouse ID'], keep=\"last\")\n",
    "\n",
    "#clean_mice_df = len(all_mice_data.drop_duplicates(subset=['Mouse ID'], keep=False))\n",
    "#clean_mice_df = (all_mice_data.drop_duplicates(subset=['Mouse ID'], keep=False))\n",
    "\n",
    "#clean_mice_df\n",
    "#clean_mice is a new DataFrame, we will call this df for the statistical analysis"
   ]
  },
  {
   "cell_type": "code",
   "execution_count": 18,
   "metadata": {},
   "outputs": [],
   "source": [
    "# Checking the number of mice in the clean DataFrame.\n",
    "#clean_mice_count=len(all_mice_data[\"Mouse ID\"].unique())\n",
    "#clean_mice_count\n",
    "# not accurate \n"
   ]
  },
  {
   "cell_type": "markdown",
   "metadata": {},
   "source": [
    "## Summary Statistics"
   ]
  },
  {
   "cell_type": "code",
   "execution_count": 19,
   "metadata": {},
   "outputs": [],
   "source": [
    "# Generate a summary statistics table of mean, median, variance, standard deviation, and SEM of the tumor volume for each regimen\n",
    "\n",
    "#mean_clean_mice= np.mean(clean_mice_df.loc[:, \"Tumor Volume (mm3)\"]) #need to reference just the tumor volume (Series) for each regimen\n",
    "#print(clean_mice_count[\"Tumor Volume (mm3)\"].mean())\n",
    "# 3:28 into MatPlotlib he mentions you can use pandas for mean and median\n",
    "\n",
    "#mean_mice=cleaned_df[\"Tumor Volume (mm3)\"].mean()\n",
    "#mean_mice\n",
    "#print(f\" The mean of the clean mice tumor volume is {mean_mice}\")"
   ]
  },
  {
   "cell_type": "code",
   "execution_count": 20,
   "metadata": {},
   "outputs": [],
   "source": [
    "# This will run but it is looking at all the drugs Tumor Volume .mean, st. dev, median ...\n",
    "#mean_tumor=cleaned_df[\"Tumor Volume (mm3)\"].mean() #use groupby not this way\n",
    "# mean, median, var can use groupby\n",
    "# st deviation and SEM use aggregate function\n",
    "#median_tumor=cleaned_df[\"Tumor Volume (mm3)\"].median()\n",
    "#var=st.variation(cleaned_df['Tumor Volume (mm3)'])\n",
    "#var=cleaned_df['Tumor Volume (mm3)'].var()\n",
    "#st_dev=sts.tstd(cleaned_df['Tumor Volume (mm3)'])\n",
    "#sem=sts.sem(cleaned_df['Tumor Volume (mm3)'])\n",
    "\n",
    "#sem_sem=sem(s.(cleaned_df['Tumor Volume (mm30)']]\n",
    "\n",
    "#print(f\" The mean of the clean mice tumor volume is {mean_tumor}\")\n",
    "#print(f\" The median tumor volume is {median_tumor}\")\n",
    "#print(f\" The tumor volume variance is {var}\")\n",
    "#print(f\" The tumor volume variance is {var}\")\n",
    "#print(f\"The tumor volume standard deviation is {st_dev}\")\n",
    "#print(f\"The tumor volume SEM is {sem}\")"
   ]
  },
  {
   "cell_type": "code",
   "execution_count": 21,
   "metadata": {},
   "outputs": [
    {
     "data": {
      "image/png": "[encoded data removed]",
      "text/plain": [
       "<Figure size 432x288 with 1 Axes>"
      ]
     },
     "metadata": {
      "needs_background": "light"
     },
     "output_type": "display_data"
    },
    {
     "name": "stdout",
     "output_type": "stream",
     "text": [
      " The tumor volume mean is 50.435293232255326\n"
     ]
    }
   ],
   "source": [
    "# This hist shows all the drugs in the cleaned_df Tumor Volume, we need to remove the outlier\n",
    "plt.hist(cleaned_df.loc[:,\"Tumor Volume (mm3)\"], bins=100)\n",
    "plt.show()\n",
    "print(f' The tumor volume mean is {np.mean(cleaned_df.loc[:, \"Tumor Volume (mm3)\"])}')"
   ]
  },
  {
   "cell_type": "code",
   "execution_count": 22,
   "metadata": {},
   "outputs": [
    {
     "data": {
      "text/plain": [
       "NormaltestResult(statistic=27.586936387822888, pvalue=1.0222870917774587e-06)"
      ]
     },
     "execution_count": 22,
     "metadata": {},
     "output_type": "execute_result"
    }
   ],
   "source": [
    "sts.normaltest(cleaned_df.loc[:,\"Tumor Volume (mm3)\"])\n",
    "# this is not a normal distribution, .05% | (5%) is the threshold (p<.05) |=or\n",
    "# pvalue is scientific notation, move the decimal to the left"
   ]
  },
  {
   "cell_type": "code",
   "execution_count": 23,
   "metadata": {},
   "outputs": [],
   "source": [
    "#median_clean_mice= np.median(clean_mice_df.loc[:, \"Tumor Volume (mm3)\"])\n",
    "#print(f\" The median _____ is {median_numpy}\")\n",
    "#median_numpy =.np.mediean(some variable)\n",
    "#median_clean_mice= np.median(clean_mice_df.loc[:, \"Tumor Volume (mm3)\"])\n",
    "\n",
    "#median_tumor=cleaned_df[\"Tumor Volume (mm3)\"].median()\n",
    "#median_tumor\n",
    "#print(f\" The median tumor volume is {median_tumor}\")"
   ]
  },
  {
   "cell_type": "code",
   "execution_count": 24,
   "metadata": {},
   "outputs": [],
   "source": [
    "#use the \n",
    "#var=sts.variation(cleaned_df['Tumor Volume (mm3)'])\n",
    "#var\n",
    "#print(f\" The tumor volume variance is {var}\")\n",
    "#variation is not the same thing as variance. do not use"
   ]
  },
  {
   "cell_type": "code",
   "execution_count": 25,
   "metadata": {},
   "outputs": [],
   "source": [
    "#var_numpy=cleaned_df['Tumor Volume (mm3)']\n",
    "\n",
    "#var_numpy =np.var(var_numpy, ddof=0) #take the number of dimensions minus 1 to determine the ddof\n",
    "#var_numpy\n",
    "\n",
    "#var_numpy =np.var(var_numpy, ddof=1) #take the number of dimensions minus 1 to determine the ddof\n",
    "#var_numpy\n",
    "\n",
    "# Delta Degrees of Freedom: int, default 1 \n",
    "# start with the variance, this means you take negative values and make them absolute, in either direction it becomes a positive occurance\n",
    "# standard deviation is a measure of distance, it doesn't care about the direction. \n",
    "# the variance will remove the negatives so you can find standard deviation\n",
    "# if we wanted to figure out the standard deviation or the variance you would use a 1 for degress of freedom \n",
    "#print(f\" The tumor volume variance is {var_numpy}\")\n",
    "\n",
    "#var=cleaned_df['Tumor Volume (mm3)'].var()"
   ]
  },
  {
   "cell_type": "code",
   "execution_count": 26,
   "metadata": {},
   "outputs": [],
   "source": [
    "#df.var :Return unbiased variance over requested axis, Parameters: axis: [index[0], columns (1)] \n",
    "#var=cleaned_df['Tumor Volume (mm3)'].var()\n",
    "#var\n",
    "#print(f\" The tumor volume variance is {var}\")"
   ]
  },
  {
   "cell_type": "code",
   "execution_count": 27,
   "metadata": {},
   "outputs": [],
   "source": [
    "#df.std Return sample standard deviation over requested axis. Parameters: axis: [Index(0), columns(1)]\n",
    "#st_dev=st.tstd(cleaned_df['Tumor Volume (mm3)'])\n",
    "#st_dev\n",
    "#print(f\"The tumor volume standard deviation is {st_dev}\")"
   ]
  },
  {
   "cell_type": "code",
   "execution_count": 28,
   "metadata": {},
   "outputs": [],
   "source": [
    "#sd_numpy=cleaned_df['Tumor Volume (mm3)']\n",
    "#sd_numpy = np.std(sd_numpy,ddof = 1)\n",
    "#sd_numpy\n",
    "#print(f\"The tumor volume standard deviation is {sd_numpy}\")"
   ]
  },
  {
   "cell_type": "code",
   "execution_count": 29,
   "metadata": {},
   "outputs": [],
   "source": [
    "#sem=st.sem(cleaned_df['Tumor Volume (mm3)'])\n",
    "#sem\n",
    "#print(f\"The tumor volume SEM is {sem}\")\n",
    "#compute standard error of the mean "
   ]
  },
  {
   "cell_type": "code",
   "execution_count": 30,
   "metadata": {},
   "outputs": [],
   "source": [
    "#create a dictionary of list to hold the summary statstics\n",
    "#stat_sum= {\"Tumor Mean \": [mean_tumor],\n",
    "#          \" Tumor Median\": [median_tumor],\n",
    "#           \"variance\": [var],\n",
    "#           \"st. deviation\":[st_dev],\n",
    "#           \"SEM\": [sem]\n",
    "#          }\n",
    "#stat_sum=pd.DataFrame(stat_sum)\n",
    "#stat_sum\n",
    "\n",
    "#all_mice_data=pd.DataFrame(all_mice_data)\n",
    "#all_mice_data\n",
    "\n",
    "# there are 10 drugs"
   ]
  },
  {
   "cell_type": "code",
   "execution_count": 31,
   "metadata": {
    "scrolled": true
   },
   "outputs": [
    {
     "data": {
      "text/html": [
       "<div>\n",
       "<style scoped>\n",
       "    .dataframe tbody tr th:only-of-type {\n",
       "        vertical-align: middle;\n",
       "    }\n",
       "\n",
       "    .dataframe tbody tr th {\n",
       "        vertical-align: top;\n",
       "    }\n",
       "\n",
       "    .dataframe thead th {\n",
       "        text-align: right;\n",
       "    }\n",
       "</style>\n",
       "<table border=\"1\" class=\"dataframe\">\n",
       "  <thead>\n",
       "    <tr style=\"text-align: right;\">\n",
       "      <th></th>\n",
       "      <th>Tumor Mean</th>\n",
       "      <th>Tumor Median</th>\n",
       "      <th>Tumor Variance</th>\n",
       "      <th>Tumor Std Dev</th>\n",
       "      <th>Tumor SEM</th>\n",
       "    </tr>\n",
       "    <tr>\n",
       "      <th>Drug Regimen</th>\n",
       "      <th></th>\n",
       "      <th></th>\n",
       "      <th></th>\n",
       "      <th></th>\n",
       "      <th></th>\n",
       "    </tr>\n",
       "  </thead>\n",
       "  <tbody>\n",
       "    <tr>\n",
       "      <th>Capomulin</th>\n",
       "      <td>40.675741</td>\n",
       "      <td>41.557809</td>\n",
       "      <td>24.947764</td>\n",
       "      <td>4.994774</td>\n",
       "      <td>0.329346</td>\n",
       "    </tr>\n",
       "    <tr>\n",
       "      <th>Ceftamin</th>\n",
       "      <td>52.591172</td>\n",
       "      <td>51.776157</td>\n",
       "      <td>39.290177</td>\n",
       "      <td>6.268188</td>\n",
       "      <td>0.469821</td>\n",
       "    </tr>\n",
       "    <tr>\n",
       "      <th>Infubinol</th>\n",
       "      <td>52.884795</td>\n",
       "      <td>51.820584</td>\n",
       "      <td>43.128684</td>\n",
       "      <td>6.567243</td>\n",
       "      <td>0.492236</td>\n",
       "    </tr>\n",
       "    <tr>\n",
       "      <th>Ketapril</th>\n",
       "      <td>55.235638</td>\n",
       "      <td>53.698743</td>\n",
       "      <td>68.553577</td>\n",
       "      <td>8.279709</td>\n",
       "      <td>0.603860</td>\n",
       "    </tr>\n",
       "    <tr>\n",
       "      <th>Naftisol</th>\n",
       "      <td>54.331565</td>\n",
       "      <td>52.509285</td>\n",
       "      <td>66.173479</td>\n",
       "      <td>8.134708</td>\n",
       "      <td>0.596466</td>\n",
       "    </tr>\n",
       "    <tr>\n",
       "      <th>Placebo</th>\n",
       "      <td>54.033581</td>\n",
       "      <td>52.288934</td>\n",
       "      <td>61.168083</td>\n",
       "      <td>7.821003</td>\n",
       "      <td>0.581331</td>\n",
       "    </tr>\n",
       "    <tr>\n",
       "      <th>Propriva</th>\n",
       "      <td>52.320930</td>\n",
       "      <td>50.446266</td>\n",
       "      <td>43.852013</td>\n",
       "      <td>6.622085</td>\n",
       "      <td>0.544332</td>\n",
       "    </tr>\n",
       "    <tr>\n",
       "      <th>Ramicane</th>\n",
       "      <td>40.216745</td>\n",
       "      <td>40.673236</td>\n",
       "      <td>23.486704</td>\n",
       "      <td>4.846308</td>\n",
       "      <td>0.320955</td>\n",
       "    </tr>\n",
       "    <tr>\n",
       "      <th>Stelasyn</th>\n",
       "      <td>54.233149</td>\n",
       "      <td>52.431737</td>\n",
       "      <td>59.450562</td>\n",
       "      <td>7.710419</td>\n",
       "      <td>0.573111</td>\n",
       "    </tr>\n",
       "    <tr>\n",
       "      <th>Zoniferol</th>\n",
       "      <td>53.236507</td>\n",
       "      <td>51.818479</td>\n",
       "      <td>48.533355</td>\n",
       "      <td>6.966589</td>\n",
       "      <td>0.516398</td>\n",
       "    </tr>\n",
       "  </tbody>\n",
       "</table>\n",
       "</div>"
      ],
      "text/plain": [
       "              Tumor Mean  Tumor Median  Tumor Variance  Tumor Std Dev  \\\n",
       "Drug Regimen                                                            \n",
       "Capomulin      40.675741     41.557809       24.947764       4.994774   \n",
       "Ceftamin       52.591172     51.776157       39.290177       6.268188   \n",
       "Infubinol      52.884795     51.820584       43.128684       6.567243   \n",
       "Ketapril       55.235638     53.698743       68.553577       8.279709   \n",
       "Naftisol       54.331565     52.509285       66.173479       8.134708   \n",
       "Placebo        54.033581     52.288934       61.168083       7.821003   \n",
       "Propriva       52.320930     50.446266       43.852013       6.622085   \n",
       "Ramicane       40.216745     40.673236       23.486704       4.846308   \n",
       "Stelasyn       54.233149     52.431737       59.450562       7.710419   \n",
       "Zoniferol      53.236507     51.818479       48.533355       6.966589   \n",
       "\n",
       "              Tumor SEM  \n",
       "Drug Regimen             \n",
       "Capomulin      0.329346  \n",
       "Ceftamin       0.469821  \n",
       "Infubinol      0.492236  \n",
       "Ketapril       0.603860  \n",
       "Naftisol       0.596466  \n",
       "Placebo        0.581331  \n",
       "Propriva       0.544332  \n",
       "Ramicane       0.320955  \n",
       "Stelasyn       0.573111  \n",
       "Zoniferol      0.516398  "
      ]
     },
     "execution_count": 31,
     "metadata": {},
     "output_type": "execute_result"
    }
   ],
   "source": [
    "# Use groupby and summary statistical methods to calculate the following properties of each drug regimen: \n",
    "# mean, median, variance, standard deviation, and SEM of the tumor volume. \n",
    "drug_df=cleaned_df[['Drug Regimen', 'Tumor Volume (mm3)']]\n",
    "drug_df=drug_df.groupby('Drug Regimen')  #.describe() #don't use describe here\n",
    "\n",
    "mean=drug_df.mean()\n",
    "median=drug_df.median()\n",
    "variance=drug_df.var()\n",
    "std=drug_df.std()\n",
    "sem=drug_df.sem()\n",
    "\n",
    "# Assemble the resulting series into a single summary dataframe.\n",
    "\n",
    "data={\"Tumor Mean\": mean['Tumor Volume (mm3)'],\n",
    "     \"Tumor Median\": median['Tumor Volume (mm3)'],\n",
    "      \"Tumor Variance\": variance['Tumor Volume (mm3)'],\n",
    "     \"Tumor Std Dev\": std['Tumor Volume (mm3)'],\n",
    "      \"Tumor SEM\": sem['Tumor Volume (mm3)']\n",
    "     }\n",
    "tumor_stats=pd.DataFrame(data)\n",
    "tumor_stats\n"
   ]
  },
  {
   "cell_type": "code",
   "execution_count": 32,
   "metadata": {},
   "outputs": [],
   "source": [
    "#drug_df=cleaned_df[['Drug Regimen', 'Tumor Volume (mm3)']]\n",
    "#drug_df=drug_df.groupby('Drug Regimen').describe()\n",
    "#drug_df"
   ]
  },
  {
   "cell_type": "code",
   "execution_count": 33,
   "metadata": {},
   "outputs": [
    {
     "data": {
      "text/html": [
       "<div>\n",
       "<style scoped>\n",
       "    .dataframe tbody tr th:only-of-type {\n",
       "        vertical-align: middle;\n",
       "    }\n",
       "\n",
       "    .dataframe tbody tr th {\n",
       "        vertical-align: top;\n",
       "    }\n",
       "\n",
       "    .dataframe thead tr th {\n",
       "        text-align: left;\n",
       "    }\n",
       "\n",
       "    .dataframe thead tr:last-of-type th {\n",
       "        text-align: right;\n",
       "    }\n",
       "</style>\n",
       "<table border=\"1\" class=\"dataframe\">\n",
       "  <thead>\n",
       "    <tr>\n",
       "      <th></th>\n",
       "      <th colspan=\"5\" halign=\"left\">Tumor Volume (mm3)</th>\n",
       "    </tr>\n",
       "    <tr>\n",
       "      <th></th>\n",
       "      <th>mean</th>\n",
       "      <th>median</th>\n",
       "      <th>std</th>\n",
       "      <th>var</th>\n",
       "      <th>sem</th>\n",
       "    </tr>\n",
       "    <tr>\n",
       "      <th>Drug Regimen</th>\n",
       "      <th></th>\n",
       "      <th></th>\n",
       "      <th></th>\n",
       "      <th></th>\n",
       "      <th></th>\n",
       "    </tr>\n",
       "  </thead>\n",
       "  <tbody>\n",
       "    <tr>\n",
       "      <th>Capomulin</th>\n",
       "      <td>40.675741</td>\n",
       "      <td>41.557809</td>\n",
       "      <td>4.994774</td>\n",
       "      <td>24.947764</td>\n",
       "      <td>0.329346</td>\n",
       "    </tr>\n",
       "    <tr>\n",
       "      <th>Ceftamin</th>\n",
       "      <td>52.591172</td>\n",
       "      <td>51.776157</td>\n",
       "      <td>6.268188</td>\n",
       "      <td>39.290177</td>\n",
       "      <td>0.469821</td>\n",
       "    </tr>\n",
       "    <tr>\n",
       "      <th>Infubinol</th>\n",
       "      <td>52.884795</td>\n",
       "      <td>51.820584</td>\n",
       "      <td>6.567243</td>\n",
       "      <td>43.128684</td>\n",
       "      <td>0.492236</td>\n",
       "    </tr>\n",
       "    <tr>\n",
       "      <th>Ketapril</th>\n",
       "      <td>55.235638</td>\n",
       "      <td>53.698743</td>\n",
       "      <td>8.279709</td>\n",
       "      <td>68.553577</td>\n",
       "      <td>0.603860</td>\n",
       "    </tr>\n",
       "    <tr>\n",
       "      <th>Naftisol</th>\n",
       "      <td>54.331565</td>\n",
       "      <td>52.509285</td>\n",
       "      <td>8.134708</td>\n",
       "      <td>66.173479</td>\n",
       "      <td>0.596466</td>\n",
       "    </tr>\n",
       "    <tr>\n",
       "      <th>Placebo</th>\n",
       "      <td>54.033581</td>\n",
       "      <td>52.288934</td>\n",
       "      <td>7.821003</td>\n",
       "      <td>61.168083</td>\n",
       "      <td>0.581331</td>\n",
       "    </tr>\n",
       "    <tr>\n",
       "      <th>Propriva</th>\n",
       "      <td>52.320930</td>\n",
       "      <td>50.446266</td>\n",
       "      <td>6.622085</td>\n",
       "      <td>43.852013</td>\n",
       "      <td>0.544332</td>\n",
       "    </tr>\n",
       "    <tr>\n",
       "      <th>Ramicane</th>\n",
       "      <td>40.216745</td>\n",
       "      <td>40.673236</td>\n",
       "      <td>4.846308</td>\n",
       "      <td>23.486704</td>\n",
       "      <td>0.320955</td>\n",
       "    </tr>\n",
       "    <tr>\n",
       "      <th>Stelasyn</th>\n",
       "      <td>54.233149</td>\n",
       "      <td>52.431737</td>\n",
       "      <td>7.710419</td>\n",
       "      <td>59.450562</td>\n",
       "      <td>0.573111</td>\n",
       "    </tr>\n",
       "    <tr>\n",
       "      <th>Zoniferol</th>\n",
       "      <td>53.236507</td>\n",
       "      <td>51.818479</td>\n",
       "      <td>6.966589</td>\n",
       "      <td>48.533355</td>\n",
       "      <td>0.516398</td>\n",
       "    </tr>\n",
       "  </tbody>\n",
       "</table>\n",
       "</div>"
      ],
      "text/plain": [
       "             Tumor Volume (mm3)                                          \n",
       "                           mean     median       std        var       sem\n",
       "Drug Regimen                                                             \n",
       "Capomulin             40.675741  41.557809  4.994774  24.947764  0.329346\n",
       "Ceftamin              52.591172  51.776157  6.268188  39.290177  0.469821\n",
       "Infubinol             52.884795  51.820584  6.567243  43.128684  0.492236\n",
       "Ketapril              55.235638  53.698743  8.279709  68.553577  0.603860\n",
       "Naftisol              54.331565  52.509285  8.134708  66.173479  0.596466\n",
       "Placebo               54.033581  52.288934  7.821003  61.168083  0.581331\n",
       "Propriva              52.320930  50.446266  6.622085  43.852013  0.544332\n",
       "Ramicane              40.216745  40.673236  4.846308  23.486704  0.320955\n",
       "Stelasyn              54.233149  52.431737  7.710419  59.450562  0.573111\n",
       "Zoniferol             53.236507  51.818479  6.966589  48.533355  0.516398"
      ]
     },
     "execution_count": 33,
     "metadata": {},
     "output_type": "execute_result"
    }
   ],
   "source": [
    "# Generate a summary statistics table of mean, median, variance, standard deviation, and SEM of the tumor volume for each regimen\n",
    "\n",
    "# Using the aggregation method, produce the same summary statistics in a single line\n",
    "\n",
    "drug_df=cleaned_df[['Drug Regimen', 'Tumor Volume (mm3)']]\n",
    "drug_df =drug_df.groupby('Drug Regimen')   #.describe()  #use .agg() on a df that you have not used groupby by\n",
    "    # You use the agg() function to replace the use of groupby()\n",
    "mean=drug_df.mean()\n",
    "median=drug_df.median()\n",
    "variance=drug_df.var()\n",
    "std=drug_df.std()\n",
    "sem=drug_df.sem()\n",
    "\n",
    "tumor_stats_agg=drug_df.agg({'Tumor Volume (mm3)': ['mean', 'median', 'std', 'var', 'sem']})\n",
    "tumor_stats_agg"
   ]
  },
  {
   "cell_type": "markdown",
   "metadata": {},
   "source": [
    "## Bar and Pie Charts"
   ]
  },
  {
   "cell_type": "code",
   "execution_count": 34,
   "metadata": {},
   "outputs": [],
   "source": [
    "#number_unique_mice_tested=drug_df.groupby(['Drug Regimen']).count()\n",
    "#plot=number_unique_mice_tested.plot(kind='bar', figsize=(10,5), color='r', fontsize=14)\n",
    "#number_unique_mice_tested\n",
    "\n",
    "#plt.xlabel(\"Drug Regimen\", fontsize= 10)\n",
    "\n",
    "#y label will show how many measurements were taken\n",
    "#plt.ylabel(\"Number of Measurements\", fontsize=10)\n",
    "\n",
    "# this will give you a nice title\n",
    "#plt.title(\"Number of Measurements per Treatement\", fontsize=10)"
   ]
  },
  {
   "cell_type": "code",
   "execution_count": 62,
   "metadata": {
    "scrolled": true
   },
   "outputs": [
    {
     "data": {
      "text/plain": [
       "Text(0.5, 1.0, 'Number of Measurements per Treatement')"
      ]
     },
     "execution_count": 62,
     "metadata": {},
     "output_type": "execute_result"
    },
    {
     "data": {
      "image/png": "[encoded data removed]",
      "text/plain": [
       "<Figure size 720x360 with 1 Axes>"
      ]
     },
     "metadata": {
      "needs_background": "light"
     },
     "output_type": "display_data"
    }
   ],
   "source": [
    "# Generate a bar plot showing the total number of measurements taken on each drug regimen using pandas.\n",
    "\n",
    "# pandas uses the .plot method #there are alot more methods available on plt \n",
    "# the formatting part you will have to mix and match. \n",
    "# x-axis different regimens \n",
    "# y- axis all the measurements w/ multiple measurements per mouse (clean_mice_df)\n",
    "number_of_measurements=cleaned_df.groupby([\"Drug Regimen\"])['Drug Regimen'] .count()#.sort_values([\"Drug Regimen\"], ascending=False)\n",
    "\n",
    "#difference between pandas and pyplot: Pandas bar plots are categorical in nature. This means, bars are positioned\n",
    "# at subsequent integer numbers, and each bar gets a tick with a lable according to the index of the df. \n",
    "\n",
    "###Stelasyn only has 24, the rest have 25\n",
    "# Pandas Plot use .plot #Pyplot use plt.plot\n",
    "#figsize sets the figure for the plot, requires a float, width height in inches\n",
    "plot=number_of_measurements.plot(kind='bar', figsize=(10,5), color='r', fontsize=14)\n",
    "number_of_measurements\n",
    "# when kind is 'bar' by default the x_axis is going to be the index of the data_frame, we assign it to a different Series \"Drug Regimen\" below.\n",
    "# the columns will be the bars, unless we specifiy only one Series ('Number of Measurements')\n",
    "# x_axis drug regimen will put each drug in its own respective column with a bar chart\n",
    "\n",
    "plt.xlabel(\"Drug Regimen\", fontsize= 10)\n",
    "#y label will show how many measurements were taken\n",
    "plt.ylabel(\"Number of Measurements\", fontsize=10)\n",
    "# this will give you a nice title \n",
    "plt.title(\"Number of Measurements per Treatement\", fontsize=10)\n",
    "#plt.legend()\n",
    "\n",
    "#How do I rearrange these? so that Capomulin and Ramicane are index 0 and 1? \n",
    "\n",
    "\n",
    "# if need to save\n",
    "# Save an image of the chart and print it to the screen\n",
    "#plt.savefig(\"../Pymaceuticals-/num_measure_regimen.png\")\n",
    "#plt.show()"
   ]
  },
  {
   "cell_type": "code",
   "execution_count": 63,
   "metadata": {},
   "outputs": [
    {
     "data": {
      "text/plain": [
       "([0, 1, 2, 3, 4, 5, 6, 7, 8, 9], <a list of 10 Text major ticklabel objects>)"
      ]
     },
     "execution_count": 63,
     "metadata": {},
     "output_type": "execute_result"
    },
    {
     "data": {
      "image/png": "[encoded data removed]",
      "text/plain": [
       "<Figure size 432x288 with 1 Axes>"
      ]
     },
     "metadata": {
      "needs_background": "light"
     },
     "output_type": "display_data"
    }
   ],
   "source": [
    "# Generate a bar plot showing the total number of measurements taken on each drug regimen using pyplot.\n",
    "\n",
    "number_of_measurements=cleaned_df.groupby([\"Drug Regimen\"]).count()['Tumor Volume (mm3)']\n",
    "number_of_measurements\n",
    "y_axis=number_of_measurements.tolist() #this is your y\n",
    "#[\"Drug Regimen\"]\n",
    "#y_axis\n",
    "#make the index your x_axis\n",
    "x_axis=list(number_of_measurements.index)\n",
    "x_axis\n",
    "# to get the index you do the dataframe name .index\n",
    "# right now num_of_measurements is an entire df.\n",
    "\n",
    "#below you are trying to pass this df as a list, it is giving you an error\n",
    "#need_a_list=[number_of_measurements]\n",
    "\n",
    "#how do you convert the series above so that it is two list. one for the index and one for the values\n",
    "#look this up\n",
    "\n",
    "#x_axis = np.arange(len(rain_df))\n",
    "#tick_locations = [value for value in x_axis]\n",
    "\n",
    "\n",
    "#x_axis=np.arange(number_of_measurements)\n",
    "#x_axis\n",
    "\n",
    "# x-axis different regimens  #y- axis all the measurements w/ multiple measurements per mouse (cleaned_df)\n",
    "#if you want to use the plt.plot method, remember you have to supply it with both the x and y axis \n",
    "# Unemployment 1:10 into Pandas 3\n",
    "\n",
    "#plt.bar is using matplotlib\n",
    "plt.bar(x_axis, y_axis, color='g', alpha=0.5, align=\"edge\") #edge align : {‘center’, ‘edge’}, optional, default: ‘center’\n",
    "#edge not working?\n",
    "plt.xlabel(\"Drug Regimen\", fontsize= 10)\n",
    "#y label will show how many measurements were taken\n",
    "plt.ylabel(\"Number of Measurements\", fontsize=10)\n",
    "# this will give you a nice title \n",
    "plt.title(\"Number of Measurements per Treatement\", fontsize=10)\n",
    "plt.xticks(rotation=90)\n",
    "#use the Rot as an argument to the dr.plot()method to rotate the x_axis axis index \n",
    "\n",
    "#x_axis= clean_mice_df.keys()\n",
    "#x_axis\n",
    "#plt.plot(x_axis[[\"Drug Regimen\"], number_of_measurements])\n",
    "#Drug Regimen"
   ]
  },
  {
   "cell_type": "code",
   "execution_count": 64,
   "metadata": {},
   "outputs": [],
   "source": [
    "#mice_gender=clean_mice_df.loc[:, ['Sex']].groupby('Sex')\n",
    "#mice_gender=clean_mice_df.loc[:, ['Mouse ID', 'Sex']].groupby('Sex')\n",
    "#mice_gender.count()\n",
    "#use df.loc[all rows, [2 Series]].group it by (the 'Sex' series)then count\n",
    "\n",
    "#clean_mice_df.loc[:, 'Sex'].value_counts() #another way to see the m/f counts not in a table"
   ]
  },
  {
   "cell_type": "code",
   "execution_count": 65,
   "metadata": {},
   "outputs": [
    {
     "data": {
      "image/png": "[encoded data removed]",
      "text/plain": [
       "<Figure size 432x288 with 1 Axes>"
      ]
     },
     "metadata": {},
     "output_type": "display_data"
    }
   ],
   "source": [
    "# Find the value_counts of each sex. This will be useful/convenient as once you have it\n",
    "# you can do a .plot() against it immediately after.\n",
    "mice_gender=cleaned_df[\"Sex\"]\n",
    "mice_gender=mice_gender.value_counts().plot(y='Sex', x=mice_gender, kind='pie', autopct='%1.1f%%', startangle=140)\n",
    "#(y='Sex', x=mice_gender, kind='pie', autopct=\"1.1f%%\", startangle=140 )\n",
    "plt.show()"
   ]
  },
  {
   "cell_type": "code",
   "execution_count": 39,
   "metadata": {},
   "outputs": [
    {
     "data": {
      "text/plain": [
       "Male      958\n",
       "Female    922\n",
       "Name: Sex, dtype: int64"
      ]
     },
     "execution_count": 39,
     "metadata": {},
     "output_type": "execute_result"
    }
   ],
   "source": [
    "mice_gen=cleaned_df[\"Sex\"]\n",
    "mice_gen=mice_gen.value_counts()\n",
    "mice_gen"
   ]
  },
  {
   "cell_type": "code",
   "execution_count": 40,
   "metadata": {},
   "outputs": [],
   "source": [
    "# Generate a pie plot showing the distribution of female versus male mice using pandas\n",
    "\n",
    "# for pandas plot to work, the value_counts of the \"Sex\" column is all that's needed to for the pie plot data. \n",
    "# No need for mouse id. \n",
    "\n",
    "#mice_gender_plot=mice_gender.plot.pie(figsize=(11,6)) #this also works\n",
    "#mice_gender=cleaned_df[\"Sex\"]\n",
    "#mice_gender_plot=mice_gender.plot(kind='pie', figsize=(11,6))\n",
    "\n",
    "#this works also but need the values...?\n",
    "#plt.pie(mice_gender,labels=mice_sex, colors=colors, autopct=\"1.1f%%\", startangle=140)\n",
    "#plt.show()\n",
    "\n",
    "#need the values\n",
    "#mice_gen.plot(mice_gen,sex,kind='pie', autopct=\"1.1f%%\", startangle=140 )\n",
    "#plt.show()\n",
    "\n",
    "#pandas plot you just use the series for the df to plt\n",
    "#cleaned_df.plot(x y='Sex', kind='pie')\n",
    "#plt.show()\n",
    "\n",
    "#if you clean your data in a df then it's easier to use pandas plot\n",
    "#if you clean using list it is easier to use matplotlib"
   ]
  },
  {
   "cell_type": "code",
   "execution_count": 41,
   "metadata": {},
   "outputs": [],
   "source": [
    "#clean_mice_df.loc[:, ['Mouse ID', 'Sex']].groupby('Sex').count().plot(kind='bar')#Male/Female Bar Plot"
   ]
  },
  {
   "cell_type": "code",
   "execution_count": 42,
   "metadata": {},
   "outputs": [],
   "source": [
    "#mice_sex=clean_mice_df['Sex']=clean_mice_df['Sex'].astype(float)\n",
    "#mice_sex=clean_mice_df.loc[:,'Sex']=clean_mice_df['Sex'].astype(float)\n",
    "#mice_sex.dtypes()\n",
    "#this should have converted the 'Sex' Series to a float, us astype str to make it an object"
   ]
  },
  {
   "cell_type": "code",
   "execution_count": 43,
   "metadata": {},
   "outputs": [],
   "source": [
    "#clean_mice_df.dtypes"
   ]
  },
  {
   "cell_type": "code",
   "execution_count": 44,
   "metadata": {},
   "outputs": [
    {
     "data": {
      "text/plain": [
       "Text(0, 0.5, 'Sex')"
      ]
     },
     "execution_count": 44,
     "metadata": {},
     "output_type": "execute_result"
    },
    {
     "data": {
      "image/png": "[encoded data removed]",
      "text/plain": [
       "<Figure size 432x288 with 1 Axes>"
      ]
     },
     "metadata": {},
     "output_type": "display_data"
    }
   ],
   "source": [
    "# Generate a pie plot showing the distribution of female versus male mice using pyplot\n",
    "mice_sex=[\"Male\", \"Female\"]\n",
    "explode=(0.1,0)\n",
    "colors= [\"darkorange\", \"royalblue\"]\n",
    "sex='Sex'\n",
    "\n",
    "#mice_gender_plot=mice_gender.plot.pie(figsize=(11,6)) #this also works\n",
    "#mice_gender=cleaned_df[\"Sex\"]\n",
    "#mice_gender_plot=mice_gender.plot(kind='pie', figsize=(11,6))\n",
    "\n",
    "#this works also but need the values...?\n",
    "#plt.pie(mice_gender,labels=mice_sex, colors=colors, autopct=\"1.1f%%\", startangle=140)\n",
    "#plt.show()\n",
    "\n",
    "#need the values\n",
    "#mice_gen.plot(mice_gen,sex,kind='pie', autopct=\"1.1f%%\", startangle=140 )\n",
    "#plt.show()\n",
    "\n",
    "plt.pie(mice_gen.values, labels=mice_gen.index.values, autopct='%1.1f%%')\n",
    "plt.ylabel(\"Sex\")"
   ]
  },
  {
   "cell_type": "code",
   "execution_count": 45,
   "metadata": {},
   "outputs": [],
   "source": [
    "# Generate a pie plot showing the distribution of female versus male mice using pyplot\n",
    "# create lables for our pie chart\n",
    "#labels=[\"Female\", \"Male\"]\n",
    "#gender_diff=[mice_gender] #documentation can be an array so a list will work\n",
    "#colors = [\"darkorange\", \"royalblue\"]\n",
    "#explode=(0.1,0) #this will break it apart\n",
    "\n",
    "# 05-Stu_BikeTrippin-Groupby/Unsolved we worked on this to get a pie chart for male/female bikeid\n",
    "\n",
    "# use plt.pie but figure out how to make the series above (the mice gender) split this in between index and values\n",
    "# make both of these a seperate list, for x and y (like the bar chart above using pyplot)\n",
    "\n",
    "#figure --> canvas\n",
    "#axis>> portions of the canvas\n",
    "#plot\n",
    "#Matplotlib/1/Activites/10-Stu_PyPies/unsolved #and solved"
   ]
  },
  {
   "cell_type": "markdown",
   "metadata": {},
   "source": [
    "## Quartiles, Outliers and Boxplots"
   ]
  },
  {
   "cell_type": "code",
   "execution_count": 46,
   "metadata": {},
   "outputs": [],
   "source": [
    "#Capomulin's potential outliers: \n",
    "#Capomulin's potential outliers: Series([], Name: Tumor Volume (mm3), dtype: float64)\n",
    "#Ramicane's'potential outliers: Series([], Name: Tumor Volume (mm3), dtype: float64)\n",
    "#Infubinol's potential outliers: 31 36.321346. Name: Tumor Volume (mm3), dtype.float64\n",
    "\n",
    "# the value 36.32 has an index of 31. there is only one outlier\n",
    "\n",
    "#Ceftamin's potential outliers: Series([], Name: Tumor Volume (mm3), dtype: float64)"
   ]
  },
  {
   "cell_type": "code",
   "execution_count": 47,
   "metadata": {},
   "outputs": [],
   "source": [
    "##this is how it was done for class example. Comment out and try yourself. See cells further down\n",
    "\n",
    "# Calculate the final tumor volume of each mouse across four of the treatment regimens:  \n",
    "\n",
    "# Capomulin, Ramicane, Infubinol, and Ceftamin\n",
    "\n",
    "# Create a list of the drugs in the study\n",
    "\n",
    "#drugs_in_study=[\"Capomulin\" , \"Ramicane\", \"Infubinol\",\"Ceftamin\"]\n",
    "\n",
    "# From Class Day 3 Matplotlib 3:25 into class. \n",
    "#If the data is in a dataframe, we use pandas to give quartile calculations\n",
    "#fourdrugs=clean_mice_df.quantile([.25,.5.75])\n",
    "\n",
    "# here we are assigning the cleaned_dataframe to a variable drugs_in_study_df, within cleaned_dataframe the \n",
    "# Drug Regimen Series is it in the drugs_in_study list \n",
    "# if it is show me with a hanging object: drugs_in_study\n",
    "\n",
    "##drugs_in_study_df=cleaned_df[cleaned_df['Drug Regimen'].isin(drugs_in_study)]\n",
    "##drugs_in_study\n",
    "\n",
    "# Start by getting the last (greatest) timepoint for each mouse\n",
    "# here we are assigning the max timepoint to the drugs_in_study_list we just made a df (drugs_in_study_df) and using the groupby method\n",
    "# to look at the Series 'Mouse ID' and the Series 'Timepoint'. Find the highest timepoint for each Mouse ID\n",
    "\n",
    "#max_timepoint=cleaned_df.groupby('Mouse ID')['Timepoint'].max()\n",
    "#max_timepoint\n",
    "\n",
    "#max_timepoint=drugs_in_study_df.groupby('Mouse ID')['Timepoint'].max()\n",
    "#max_timepoint\n",
    "\n",
    "# Merge this group df with the original dataframe to get the tumor volume at the last timepoint\n",
    "# we will create a new DataFrame called drug_in_study_max and we will assign using the pd.merge method the max_timepoint, \n",
    "#the cleaned_df, on the Mouse ID and Timepoint columns (these are each a Series)\n",
    "\n",
    "##drug_in_study_max=pd.merge(max_timepoint, cleaned_df, on=['Mouse ID', 'Timepoint'])\n",
    "##drug_in_study_max\n",
    "\n",
    "\n",
    "#drug_in_study_max=pd.merge(cleaned_df, max_timepoint, on=['Mouse ID', 'Timepoint'])\n",
    "#drug_in_study_max\n",
    "\n",
    "#clean_data.groupby('Mouse')[\"Timepoint\"].max()\n",
    "# it will be a merge \n",
    "#pd.merge(max_timepoint, clean_data, on=['Mouse ID', 'Timepoint'])\n",
    "# using the merge to use this type of filer is neat and this type of thinking is good.\n",
    "# mastery over the merge concept will be fantastic for you. \n",
    "\n",
    "#is there a way in pandas to give us the row\n",
    "# what is the last time point for the mouse"
   ]
  },
  {
   "cell_type": "code",
   "execution_count": 48,
   "metadata": {},
   "outputs": [],
   "source": [
    "#above is correct but not in the order they want you to do it\n",
    "#below is attempt to make it correct. "
   ]
  },
  {
   "cell_type": "code",
   "execution_count": 49,
   "metadata": {},
   "outputs": [],
   "source": [
    "#times = [96,98,100,105,85,88,95,100,101,102,97,98,5]\n",
    "#fig1, ax1 = plt.subplots()\n",
    "#ax1.set_title('Reaction Times at Baseball Batting Cage')\n",
    "#ax1.set_ylabel('Reaction Time (ms)')\n",
    "#ax1.boxplot(times)\n",
    "#ax1.boxplot(times, showfliers=False)"
   ]
  },
  {
   "cell_type": "code",
   "execution_count": 50,
   "metadata": {},
   "outputs": [],
   "source": [
    "#drug_df=cleaned_df[['Drug Regimen', 'Tumor Volume (mm3)']]\n",
    "#drug_dfx=drug_df.groupby('Drug Regimen') #does this work?\n",
    "#drug_dfx.describe()"
   ]
  },
  {
   "cell_type": "code",
   "execution_count": 51,
   "metadata": {},
   "outputs": [],
   "source": [
    "#drugs=[\"Capomulin\" , \"Ramicane\", \"Infubinol\",\"Ceftamin\"]\n",
    "#drugs"
   ]
  },
  {
   "cell_type": "code",
   "execution_count": 52,
   "metadata": {},
   "outputs": [],
   "source": [
    "##This cell is telling you there are more than one outlier. There isn't. It is not correct. \n",
    "##you were doing it before the merge\n",
    "\n",
    "#tumor_vol=[] \n",
    "#for drug in drugs:\n",
    "#    print(f'------------------------------------')\n",
    "    #print(f'Info about {drug}:')\n",
    "    #drug_filter=drug_in_study_max.loc[(drug_in_study_max['Drug Regimen']==drug), ['Tumor Volume (mm3)']]\n",
    "    #drug_filter=cleaned_df.loc[:, 'Drug Regimen']==drug #=='Capomulin'\n",
    "    #drug_filter\n",
    "    \n",
    "\n",
    "#drug_filter_again=cleaned_df.loc[drug_filter,'Tumor Volume (mm3)']#['Tumor Volume (mm3)'] #combining \n",
    "#drug_filter_again\n",
    "#print(drug_filter_again)\n",
    "    #tumor_vol.append(drug_filter['Tumor Volume (mm3)'])\n",
    "\n",
    "    #quantiles=drug_filter['Tumor Volume (mm3)'].quantile([.25,.5,.75])\n",
    "#quantiles\n",
    "\n",
    "#iqr range\n",
    "    #lowerq=quartiles[0.25]\n",
    "    #upperq=quartiles[0.75]\n",
    "    #iqr=upperq-lowerq #this is giving you the inter quartile range. \n",
    "#equvilant to iqr=quartiles[.75]-quartiles[.25]\n",
    "#It is between the first and third quartile. 50% of data is here\n",
    "\n",
    "    #lower_bound=lowerq-(1.5*iqr)\n",
    "    #upper_bound=upperq+(1.5*iqr)\n",
    "    #print(lower_bound)\n",
    "    #outlier=drug_filter[(drug_filter['Tumor Volume (mm3)']<lower_bound) | (drug_filter['Tumor Volume (mm3)']>upper_bound)]\n",
    "\n",
    "    #subset_filter=(drug_filter<lower_bound) | (drug_filter>upper_bound)\n",
    "    #subset_filter\n",
    "\n",
    "    #outlier=drug_filter[subset_filter]\n",
    "    #if len(outlier)>0:\n",
    "        #if len(outlier)<1:\n",
    "       #print(f'there are {len(outlier)}outliers')\n",
    "        #else:\n",
    "        #print(f'there are {len(outlier)}outliers')\n",
    "    #else:\n",
    "    #print(f' there are no outliers')\n",
    "#print(type(outlier)) #(type)(outlier)  #outlier\n",
    "#print(f'the outlier for {drug} outlier is{outlier}')\n",
    "    "
   ]
  },
  {
   "cell_type": "code",
   "execution_count": 53,
   "metadata": {},
   "outputs": [],
   "source": [
    "# Calculate the final tumor volume of each mouse across four of the treatment regimens:  \n",
    "# Capomulin, Ramicane, Infubinol, and Ceftamin"
   ]
  },
  {
   "cell_type": "code",
   "execution_count": 54,
   "metadata": {},
   "outputs": [
    {
     "data": {
      "text/html": [
       "<div>\n",
       "<style scoped>\n",
       "    .dataframe tbody tr th:only-of-type {\n",
       "        vertical-align: middle;\n",
       "    }\n",
       "\n",
       "    .dataframe tbody tr th {\n",
       "        vertical-align: top;\n",
       "    }\n",
       "\n",
       "    .dataframe thead th {\n",
       "        text-align: right;\n",
       "    }\n",
       "</style>\n",
       "<table border=\"1\" class=\"dataframe\">\n",
       "  <thead>\n",
       "    <tr style=\"text-align: right;\">\n",
       "      <th></th>\n",
       "      <th>Mouse ID</th>\n",
       "      <th>Timepoint</th>\n",
       "      <th>Drug Regimen</th>\n",
       "      <th>Sex</th>\n",
       "      <th>Age_months</th>\n",
       "      <th>Weight (g)</th>\n",
       "      <th>Tumor Volume (mm3)</th>\n",
       "      <th>Metastatic Sites</th>\n",
       "    </tr>\n",
       "  </thead>\n",
       "  <tbody>\n",
       "    <tr>\n",
       "      <th>0</th>\n",
       "      <td>a203</td>\n",
       "      <td>45</td>\n",
       "      <td>Infubinol</td>\n",
       "      <td>Female</td>\n",
       "      <td>20</td>\n",
       "      <td>23</td>\n",
       "      <td>67.973419</td>\n",
       "      <td>2</td>\n",
       "    </tr>\n",
       "    <tr>\n",
       "      <th>1</th>\n",
       "      <td>a251</td>\n",
       "      <td>45</td>\n",
       "      <td>Infubinol</td>\n",
       "      <td>Female</td>\n",
       "      <td>21</td>\n",
       "      <td>25</td>\n",
       "      <td>65.525743</td>\n",
       "      <td>1</td>\n",
       "    </tr>\n",
       "    <tr>\n",
       "      <th>2</th>\n",
       "      <td>a262</td>\n",
       "      <td>45</td>\n",
       "      <td>Placebo</td>\n",
       "      <td>Female</td>\n",
       "      <td>17</td>\n",
       "      <td>29</td>\n",
       "      <td>70.717621</td>\n",
       "      <td>4</td>\n",
       "    </tr>\n",
       "    <tr>\n",
       "      <th>3</th>\n",
       "      <td>a275</td>\n",
       "      <td>45</td>\n",
       "      <td>Ceftamin</td>\n",
       "      <td>Female</td>\n",
       "      <td>20</td>\n",
       "      <td>28</td>\n",
       "      <td>62.999356</td>\n",
       "      <td>3</td>\n",
       "    </tr>\n",
       "    <tr>\n",
       "      <th>4</th>\n",
       "      <td>a366</td>\n",
       "      <td>30</td>\n",
       "      <td>Stelasyn</td>\n",
       "      <td>Female</td>\n",
       "      <td>16</td>\n",
       "      <td>29</td>\n",
       "      <td>63.440686</td>\n",
       "      <td>1</td>\n",
       "    </tr>\n",
       "    <tr>\n",
       "      <th>...</th>\n",
       "      <td>...</td>\n",
       "      <td>...</td>\n",
       "      <td>...</td>\n",
       "      <td>...</td>\n",
       "      <td>...</td>\n",
       "      <td>...</td>\n",
       "      <td>...</td>\n",
       "      <td>...</td>\n",
       "    </tr>\n",
       "    <tr>\n",
       "      <th>243</th>\n",
       "      <td>z435</td>\n",
       "      <td>10</td>\n",
       "      <td>Propriva</td>\n",
       "      <td>Female</td>\n",
       "      <td>12</td>\n",
       "      <td>26</td>\n",
       "      <td>48.710661</td>\n",
       "      <td>0</td>\n",
       "    </tr>\n",
       "    <tr>\n",
       "      <th>244</th>\n",
       "      <td>z578</td>\n",
       "      <td>45</td>\n",
       "      <td>Ramicane</td>\n",
       "      <td>Male</td>\n",
       "      <td>11</td>\n",
       "      <td>16</td>\n",
       "      <td>30.638696</td>\n",
       "      <td>0</td>\n",
       "    </tr>\n",
       "    <tr>\n",
       "      <th>245</th>\n",
       "      <td>z581</td>\n",
       "      <td>45</td>\n",
       "      <td>Infubinol</td>\n",
       "      <td>Female</td>\n",
       "      <td>24</td>\n",
       "      <td>25</td>\n",
       "      <td>62.754451</td>\n",
       "      <td>3</td>\n",
       "    </tr>\n",
       "    <tr>\n",
       "      <th>246</th>\n",
       "      <td>z795</td>\n",
       "      <td>45</td>\n",
       "      <td>Naftisol</td>\n",
       "      <td>Female</td>\n",
       "      <td>13</td>\n",
       "      <td>29</td>\n",
       "      <td>65.741070</td>\n",
       "      <td>3</td>\n",
       "    </tr>\n",
       "    <tr>\n",
       "      <th>247</th>\n",
       "      <td>z969</td>\n",
       "      <td>45</td>\n",
       "      <td>Naftisol</td>\n",
       "      <td>Male</td>\n",
       "      <td>9</td>\n",
       "      <td>30</td>\n",
       "      <td>73.867845</td>\n",
       "      <td>4</td>\n",
       "    </tr>\n",
       "  </tbody>\n",
       "</table>\n",
       "<p>248 rows × 8 columns</p>\n",
       "</div>"
      ],
      "text/plain": [
       "    Mouse ID  Timepoint Drug Regimen     Sex  Age_months  Weight (g)  \\\n",
       "0       a203         45    Infubinol  Female          20          23   \n",
       "1       a251         45    Infubinol  Female          21          25   \n",
       "2       a262         45      Placebo  Female          17          29   \n",
       "3       a275         45     Ceftamin  Female          20          28   \n",
       "4       a366         30     Stelasyn  Female          16          29   \n",
       "..       ...        ...          ...     ...         ...         ...   \n",
       "243     z435         10     Propriva  Female          12          26   \n",
       "244     z578         45     Ramicane    Male          11          16   \n",
       "245     z581         45    Infubinol  Female          24          25   \n",
       "246     z795         45     Naftisol  Female          13          29   \n",
       "247     z969         45     Naftisol    Male           9          30   \n",
       "\n",
       "     Tumor Volume (mm3)  Metastatic Sites  \n",
       "0             67.973419                 2  \n",
       "1             65.525743                 1  \n",
       "2             70.717621                 4  \n",
       "3             62.999356                 3  \n",
       "4             63.440686                 1  \n",
       "..                  ...               ...  \n",
       "243           48.710661                 0  \n",
       "244           30.638696                 0  \n",
       "245           62.754451                 3  \n",
       "246           65.741070                 3  \n",
       "247           73.867845                 4  \n",
       "\n",
       "[248 rows x 8 columns]"
      ]
     },
     "execution_count": 54,
     "metadata": {},
     "output_type": "execute_result"
    }
   ],
   "source": [
    "# Merge this group df with the original dataframe to get the tumor volume at the last timepoint\n",
    "\n",
    "max_time=cleaned_df.groupby('Mouse ID')['Timepoint'].max()\n",
    "merged_df=pd.merge(max_time,cleaned_df,on=['Mouse ID', 'Timepoint'])\n",
    "merged_df"
   ]
  },
  {
   "cell_type": "code",
   "execution_count": 61,
   "metadata": {},
   "outputs": [
    {
     "name": "stdout",
     "output_type": "stream",
     "text": [
      "----------------------\n",
      "Info about Capomulin:\n",
      "the interquartile range is: 7.781863460000004\n",
      "There are no potential outliers in this data.\n",
      "----------------------\n",
      "Info about Ramicane:\n",
      "the interquartile range is: 9.098536719999998\n",
      "There are no potential outliers in this data.\n",
      "----------------------\n",
      "Info about Infubinol:\n",
      "the interquartile range is: 11.477135160000003\n",
      "There is 1 potential outlier.\n",
      "----------------------\n",
      "Info about Ceftamin:\n",
      "the interquartile range is: 15.577752179999997\n",
      "There are no potential outliers in this data.\n"
     ]
    }
   ],
   "source": [
    "# Calculate the IQR and quantitatively determine if there are any potential outliers.  \n",
    "# This is what they want you to do overall. # calculate the iqr for each one of the drugs in the list\n",
    "\n",
    "# Create a list of the drugs in the study\n",
    "  \n",
    "    # Locate the rows which contain mice on each drug and get the tumor volumes\n",
    "    # appended treatment data to treatment_vol list\n",
    "    \n",
    "    # add subset \n",
    "    \n",
    "    \n",
    "    # Determine outliers using upper and lower bounds\n",
    "\n",
    "treatements=['Capomulin', \"Ramicane\", \"Infubinol\",\"Ceftamin\"]\n",
    "tumor_vol=[]\n",
    "for drug in treatments: #iterate through the list treatments\n",
    "    print(f'----------------------') #provides dashes to break up print statements\n",
    "    print(f'Info about {drug}:')\n",
    "    treatment_data=merged_df.loc[(merged_df['Drug Regimen']==drug), ['Tumor Volume (mm3)']] #drug regimen in the list of drugs, get the Tumor Vol Series  \n",
    "    tumor_vol.append(treatment_data['Tumor Volume (mm3)']) #append treatment data results to tumor_vol [empty list above]\n",
    "    \n",
    "    quantiles=treatment_data['Tumor Volume (mm3)'].quantile([.25, .5, .75]) \n",
    "    lower_q=quantiles[0.25]\n",
    "    upper_q=quantiles[0.75]\n",
    "    iqr=upper_q-lower_q\n",
    "    print(f\"the interquartile range is: {iqr}\")\n",
    "    \n",
    "    lower_bound=lower_q-(1.5*iqr)\n",
    "    upper_bound=upper_q+(1.5*iqr)\n",
    "    \n",
    "    outliers=treatment_data[(treatment_data['Tumor Volume (mm3)']<lower_bound) | (treatment_data['Tumor Volume (mm3)']>upper_bound)]\n",
    "    \n",
    "    if len(outliers)>0:\n",
    "        if len(outliers)>1:\n",
    "            print(f'There are {len(outliers)} potential outliers.')\n",
    "        else:\n",
    "            print(f'There is {len(outliers)} potential outlier.')\n",
    "    else:\n",
    "        print('There are no potential outliers in this data.')\n",
    "            "
   ]
  },
  {
   "cell_type": "code",
   "execution_count": 60,
   "metadata": {},
   "outputs": [
    {
     "data": {
      "image/png": "[encoded data removed]",
      "text/plain": [
       "<Figure size 432x288 with 1 Axes>"
      ]
     },
     "metadata": {
      "needs_background": "light"
     },
     "output_type": "display_data"
    }
   ],
   "source": [
    "#Boxplot\n",
    "treatments=['Capomulin', \"Ramicane\", \"Infubinol\",\"Ceftamin\"]\n",
    "\n",
    "outlier_dot=dict(marker='r') \n",
    "fig1,ax=plt.subplots()\n",
    "ax.set_title('Drug Regimen Distribution')\n",
    "ax.set_ylabel('Tumor Vol (mm3)')\n",
    "ax.set_xticklabels(treatments)\n",
    "ax.boxplot(tumor_vol,showfliers=outlier_dot)\n",
    "plt.show()"
   ]
  },
  {
   "cell_type": "code",
   "execution_count": 57,
   "metadata": {},
   "outputs": [],
   "source": [
    "#Boxplot\n",
    "#treatments=['Capomulin', \"Ramicane\", \"Infubinol\",\"Ceftamin\"]\n",
    "\n",
    "#treatments= [‘Capomulin’,‘Ramicane’,‘Infubinol’,‘Ceftamin’]\n",
    "#outlier_dot=dict(marker='s') #\n",
    "#fig1,ax=plt.subplots()\n",
    "#ax.set_title('Drug Regimen Distribution')\n",
    "#ax.set_ylabel('Tumor Vol (mm3)')\n",
    "#ax.set_xticklabels(treatments)\n",
    "#ax.boxplot(tumor_vol) #,showfliers=outlier_dot)\n",
    "#plt.show()"
   ]
  },
  {
   "cell_type": "code",
   "execution_count": 535,
   "metadata": {},
   "outputs": [],
   "source": [
    "#tumor_vol #this runs and will return the tumor volume for each drug in the list, there are 4#"
   ]
  },
  {
   "cell_type": "code",
   "execution_count": 536,
   "metadata": {},
   "outputs": [],
   "source": [
    "#This code runs, it is a boolean series, will return a bunch of true and falses\n",
    "#drug_filter=cleaned_df.loc[:,'Drug Regimen']=='Capomulin' \n",
    " #.isin(drugs) #it's one of these drugs\n",
    "#drug_filter"
   ]
  },
  {
   "cell_type": "code",
   "execution_count": 537,
   "metadata": {},
   "outputs": [],
   "source": [
    "#this runs and will give you the a filtered down df of Tumor Volume for each drug in the Regimen\n",
    "# you go down from 1880 (cell above) which applies the filter down to 230\n",
    "\n",
    "#drugs_in_study=cleaned_df.loc[drug_filter, 'Tumor Volume (mm3)'] \n",
    "\n",
    "# You can put 'Tumor Volume (mm3)' for : if you only want that Series\n",
    "#drugs_in_study"
   ]
  },
  {
   "cell_type": "code",
   "execution_count": 538,
   "metadata": {},
   "outputs": [],
   "source": [
    "#number_list = [ x for x in range(20) if x % 2 == 0]\n",
    "#print(number_list)"
   ]
  },
  {
   "cell_type": "code",
   "execution_count": 539,
   "metadata": {},
   "outputs": [],
   "source": [
    "#for drug in drugs: #drug is the element in the list, just each element in the late\n",
    "#    drug_filter=cleaned_df.loc[:,'Drug Regimen']== drug \n",
    "#    if drugs_in_study ['Drug Regimen']==drugs\n",
    "#    drugs_in_study=cleaned_df.loc[drug_filter, 'Tumor Volume (mm3)']\n",
    "    #print(drugs_in_study)"
   ]
  },
  {
   "cell_type": "code",
   "execution_count": 540,
   "metadata": {},
   "outputs": [],
   "source": [
    "#max_timepoint=cleaned_df.groupby('Mouse ID')['Timepoint'].max()\n",
    "#max_timepoint\n",
    "\n",
    "#max_timepoint=drugs_in_study_df.groupby('Mouse ID')['Timepoint'].max()\n",
    "#max_timepoint\n",
    "\n",
    "# Merge this group df with the original dataframe to get the tumor volume at the last timepoint\n",
    "# we will create a new DataFrame called drug_in_study_max and we will assign using the pd.merge method the max_timepoint, \n",
    "#the cleaned_df, on the Mouse ID and Timepoint columns (these are each a Series)\n",
    "\n",
    "#drug_in_study_max=pd.merge(max_timepoint, cleaned_df, on=['Mouse ID', 'Timepoint'])\n",
    "#drug_in_study_max"
   ]
  },
  {
   "cell_type": "code",
   "execution_count": 541,
   "metadata": {},
   "outputs": [],
   "source": [
    "#This cell will run and also give you the correct outlier answer\n",
    "\n",
    "# Calculate the IQR and quantitatively determine if there are any potential outliers.  \n",
    "# This is what they want you to do overall. # calculate the iqr for each one of the drugs in the list\n",
    "\n",
    "  \n",
    "    # Locate the rows which contain mice on each drug and get the tumor volumes\n",
    "    \n",
    "    \n",
    "    # add subset \n",
    "    \n",
    "    \n",
    "    # Determine outliers using upper and lower bounds\n",
    "\n",
    "#drugs=[\"Capomulin\" , \"Ramicane\", \"Infubinol\",\"Ceftamin\"]\n",
    "#drugs\n",
    "#tumor_vol=[]\n",
    "#for drug in drugs: #drug is the element in the list, just each element in the late\n",
    "#    drug_filter=drug_in_study_max.loc[:,'Drug Regimen']== drug \n",
    "#    if drugs_in_study ['Drug Regimen']==drugs\n",
    "\n",
    "#    drugs_in_study=drug_in_study_max.loc[drug_filter, 'Tumor Volume (mm3)']\n",
    "    #print(drugs_in_study)\n",
    "    #tumor_vol.append\n",
    "    \n",
    "#    quartiles=drugs_in_study.quantile([.25,.5,.75])\n",
    "    \n",
    "#use the index\n",
    "# use the df.loc[0.25]\n",
    "#shortcut below\n",
    "\n",
    "#    lowerq=quartiles[0.25]\n",
    "#    upperq=quartiles[0.75]\n",
    "#    iqr=upperq-lowerq #this is giving you the inter quartile range. \n",
    "\n",
    "    #equvilant to iqr=quartiles[.75]-quartiles[.25]\n",
    "    #It is between the first and third quartile. 50% of data is here\n",
    "    \n",
    "#    lower_bound=lowerq-(1.5*iqr)\n",
    "#    upper_bound=upperq+(1.5*iqr)\n",
    "\n",
    "    #print(lower_bound) \n",
    "    #print just a number. is the marked point in your data set that is 1.5 times inter quartile range\n",
    "    \n",
    "#    subset_filter=(drugs_in_study<lower_bound) | (drugs_in_study>upper_bound)\n",
    "    \n",
    "    #subset_filter\n",
    "    #outlier=drugs_in_study[subset_filter]\n",
    "    #print(f\"{drug}'s potential outliers: {outlier}\")\n",
    "    \n",
    "    #print(f\"{drugs}'s value is below {lower_bound} it may be an outlier.\")\n",
    "    \n",
    "    #drugs_in_study >= upper_bound #not correct syntax but correct thinking \n",
    "    #filter_dfs=(drugs_in_study['Tumor Volume (mm3)']>upper_bound) | (drugs_in_study['Tumor Volume (mm3)']<lower_bound)\n",
    "    #drugs_in_study.loc[filter_dfs,:]\n",
    "    \n",
    "    #outlier\n",
    "    #test=[(quartiles<lower_bound) | (quartiles > upper_bound)]\n",
    "    #print(test)\n",
    "    \n",
    "\n",
    "    #now you need to pull the values out that are above/below the values. \n",
    "    #drugs_in_study \n",
    "    \n",
    "    # 2 list where one is all of the drugs\n",
    "    # Having trouble here. \n",
    "    #print(f\" [drugs]'s potential outliers: {outliers}\")"
   ]
  },
  {
   "cell_type": "code",
   "execution_count": 542,
   "metadata": {},
   "outputs": [],
   "source": [
    "#tumor_vol.append(drugs_in_study['Tumor Volume (mm3)'])\n",
    "\n",
    "#Close to getting this one to run on the cell above but couldn't do it. \n",
    "\n",
    "#treatments=[\"Capomulin\",\"Ramicane\",\"Infubinol\",\"Ceftamin\"]\n",
    "#outlier=dict(maker='s')\n",
    "#fig1,ax=plt.subplots()\n",
    "#ax.set_title('Drug Regimen Distribution')\n",
    "#ax.set_ylabel('Tumor Vol (mm3)')\n",
    "#ax.set_xticklabels(treatments)\n",
    "#ax.boxplot(tumor_vol,showfliers=outlier)\n",
    "#plt.show()"
   ]
  },
  {
   "cell_type": "code",
   "execution_count": 543,
   "metadata": {},
   "outputs": [],
   "source": [
    "#drugs_in_study=[\"Capomulin\",\"Ramicane\", \"Infubinol\",\"Ceftamin\"]\n",
    "\n",
    "#tumor_vol_outlier= drugs_in_study['Tumor Volume (mm3)']\n",
    "\n",
    "#fig1,ax1=plt.subplots()\n",
    "#ax1.set_title('Each Mouse across four regimens of interest')\n",
    "\n",
    "#ax1.set_ylabel('Final Tumor Vol')\n",
    "\n",
    "##ax1.boxplot(drug_in_study_max.loc[drug_in_study_max.loc[:, \"Drug Regimen\"]=='Capomulin', 'Tumor Volume (mm3)'])\n",
    "            \n",
    "            #, showfliers=False) \n",
    "\n",
    "# if you remove showfliers=False you will see the outlier\n",
    "# but isn't there only one outlier? and it is not in Capomulin\n",
    "#plt.show()"
   ]
  },
  {
   "cell_type": "code",
   "execution_count": 544,
   "metadata": {},
   "outputs": [],
   "source": [
    "# Put treatments into a list for for loop (and later for plot labels)\n",
    "# You are looping over the list of drug names and for each drug name pull the tumor volume data\n",
    "# with that tumor volume data \n",
    "# each time it runs through it will pull one name and it is saying what can you do with that name\n",
    "# you can start subsetting the data with that name \n",
    "\n",
    "#big thing to keep in mind you are looking for outliers within a drug not across all drugs\n",
    "\n",
    "\n",
    "# Create a list of the drugs in the study\n",
    "\n",
    "#drug_regimen_list=['Capomulin', 'Ceftamin', 'Infubinol', 'Ramicane']\n",
    "\n",
    "# Create empty list to fill with tumor vol data (for plotting)\n",
    "\n",
    "#drug_regimen_data=[]\n",
    "#tumor_vol_list=\n",
    "\n",
    "#for drug in drug_regimen_list:\n",
    "#   drug_trial_df= cleaned_df[cleaned_df['Drug Regimen']==drug]\n",
    "#drug_trial_df\n",
    "\n",
    "# built a dictionary with 4 list that have access to the tumor volume data\n",
    "\n",
    "#tumor_vol_data={drug:list(cleaned_df.loc[cleaned_df['Drug Regimen']==drug, 'Tumor Volume (mm3)']) for drug in drug_regimen_list}\n",
    "#cleaned_df['Tumor Volume (mm3)'] for drug in drug_regimen_list}\n",
    "\n",
    "#tumor_vol_data\n",
    "\n",
    "#tumor_vol_data \n",
    "\n",
    "#for key, in tumor_vol_data.items:\n",
    "#    =drugs_in_study\n",
    "\n",
    "#for drug in tumor_vol_data\n",
    "#quartiles=t\n",
    "\n",
    "#tumor_vol_data={drug:list(cleaned_df.loc[cleaned_df['Drug Regimen']==drug, 'Tumor Volume (mm3)']) for drug in drug_regimen_list}\n",
    "#cleaned_df['Tumor Volume (mm3)'] for drug in drug_regimen_list}\n",
    "#tumor_vol_data['Ramicane']\n",
    "\n",
    "# Calculate the IQR and quantitatively determine if there are any potential outliers.  \n",
    "# This is what they want you to do overall. # calculate the iqr for each one of the drugs in the list\n",
    "\n",
    "  \n",
    "    # Locate the rows which contain mice on each drug and get the tumor volumes\n",
    "    \n",
    "    \n",
    "    # add subset \n",
    "    \n",
    "    \n",
    "    # Determine outliers using upper and lower bounds\n",
    "     \n",
    "#quartiles = drugs_in_study.quantile([.25,.5,.75])\n",
    "#print(f\"The lower quartile of temperatures is: {lowerq}\")\n",
    "#print(f\"The upper quartile of temperatures is: {upperq}\")\n",
    "#print(f\"The interquartile range of temperatures is: {iqr}\")\n",
    "#print(f\"The the median of temperatures is: {quartiles[0.5]} \")"
   ]
  },
  {
   "cell_type": "code",
   "execution_count": 545,
   "metadata": {},
   "outputs": [],
   "source": [
    "# created a fitler to check 'Capomulin\" to see if it was in the drug study,\n",
    "# wanted to compare the output of the dictionary comprehnesion above\n",
    "# based off just one of the drug regimens\n",
    "# create a filter out of the cleaned_df to compar the outputs for the Tumor Volumes in \n",
    "# just a check on one of the drugs. Verifying we have the individual drug and the Tumor Volume (mm3)\n",
    "\n",
    "#cap_list=[\"Capomulin\"]\n",
    "#cap_filter=cleaned_df.loc[:, 'Drug Regimen'].isin(cap_list)\n",
    "#cap_filter\n",
    "\n",
    "#drug_study_df=cleaned_df.loc[cap_filter,:]\n",
    "#drug_study_df"
   ]
  },
  {
   "cell_type": "code",
   "execution_count": 546,
   "metadata": {},
   "outputs": [],
   "source": [
    "# Generate a box plot of the final tumor volume of each mouse across four regimens of interest\n",
    "# this is just Capomulin\n",
    "#tumor_vol_outlier= drug_study_df['Tumor Volume (mm3)']\n",
    "#fig1,ax1=plt.subplots()\n",
    "#ax1.set_title('Each Mouse across four regimens of interest')\n",
    "#ax1.set_ylabel('Final Tumor Vol')\n",
    "#ax1.boxplot(tumor_vol_outlier, showfliers=False) # if you remove showfliers=False you will see the outlier\n",
    "# but isn't there only one outlier? and it is not in Capomulin\n",
    "#plt.show()\n",
    "# the horizontal orange line is the mean\n",
    "# the last lines you see are the last occurance before you see an outlier\n",
    "# the box plot method is convient to show what the distribution looks like\n",
    "# there is a setting that allows you to take out all outliers. \n",
    "\n",
    "\n",
    "# to figure out the quartile we can use the df . quantile method\n",
    "#@ you pass in the list of on a % basis what you want to set your boundry to\n",
    "#.quantile([.25,.5.75])  # you can pass this a parameter "
   ]
  },
  {
   "cell_type": "code",
   "execution_count": 547,
   "metadata": {},
   "outputs": [],
   "source": [
    "#quartiles=tumor_vol_outlier.quantile([.25,.5,.75])\n",
    "# use the index\n",
    "# use the df.loc[0.25]\n",
    "# shortcut below\n",
    "#lowerq=quartiles[0.25]\n",
    "#upperq=quartiles[0.75]\n",
    "#iqr=upperq-lowerq\n",
    "\n",
    "\n",
    "#lower_bound=lowerq-(1.5*iqr)\n",
    "#upper_bound=upperq+(1.5*iqr)\n"
   ]
  },
  {
   "cell_type": "markdown",
   "metadata": {},
   "source": [
    "## Line and Scatter Plots"
   ]
  },
  {
   "cell_type": "code",
   "execution_count": 548,
   "metadata": {},
   "outputs": [
    {
     "data": {
      "text/plain": [
       "Text(0.5, 1.0, 'Tumor Volume Over Time for')"
      ]
     },
     "execution_count": 548,
     "metadata": {},
     "output_type": "execute_result"
    },
    {
     "data": {
      "image/png": "[encoded data removed]",
      "text/plain": [
       "<Figure size 432x288 with 1 Axes>"
      ]
     },
     "metadata": {
      "needs_background": "light"
     },
     "output_type": "display_data"
    }
   ],
   "source": [
    "# Generate a line plot of tumor volume vs. time point for a mouse treated with Capomulin\n",
    "\n",
    "# cap_list is Capomulin drug Mouse ID, below we have called b128 \n",
    "cap_list=[\"b128\"] #[\"l509\"]\n",
    "cap_filter=cleaned_df.loc[:, 'Mouse ID'].isin(cap_list) #create a filter and use .loc to access all rows and column 'Mouse ID'\n",
    "#if cap list b128 is in there we want to filter it out to use for plot\n",
    "cap_filter\n",
    "#make new df from cleaned df and us the cap_filter\n",
    "drug_study_dfs=cleaned_df.loc[cap_filter,:]\n",
    "drug_study_dfs #.count()\n",
    "# plot x and y\n",
    "x=drug_study_dfs['Timepoint']\n",
    "y=drug_study_dfs['Tumor Volume (mm3)']\n",
    "\n",
    "plt.plot(x,y)\n",
    "plt.title(f'Tumor Volume Over Time for')"
   ]
  },
  {
   "cell_type": "code",
   "execution_count": 549,
   "metadata": {},
   "outputs": [
    {
     "data": {
      "text/plain": [
       "Text(0, 0.5, 'Average Tumor Volume (mm3)')"
      ]
     },
     "execution_count": 549,
     "metadata": {},
     "output_type": "execute_result"
    },
    {
     "data": {
      "image/png": "[encoded data removed]",
      "text/plain": [
       "<Figure size 432x288 with 1 Axes>"
      ]
     },
     "metadata": {
      "needs_background": "light"
     },
     "output_type": "display_data"
    }
   ],
   "source": [
    "# Generate a scatter plot of average tumor volume vs. mouse weight for the Capomulin regimen\n",
    "\n",
    "# Tells matplotlib that we want to make a scatter plot\n",
    "# The size of each point on our plot is determined by their x value\n",
    "# x values = x_axis\n",
    "# y values = data\n",
    "# set the s (size) \n",
    "# if you set s=5 it will be large\n",
    "# or you can set it as an array \n",
    "# the first point will be 0 so you can see it\n",
    "# second 1 pixel, 2 pixel, etc\n",
    "\n",
    "# define x_axis and y_axis\n",
    "#x_axis=mouse 'Weight (g)''\n",
    "#y_axis= 'Tumor Volume (mm3)''\n",
    "\n",
    "#mouse=[\"Capomulin\"]\n",
    "#cap_filter=cleaned_df.loc[:, 'Drug Regimen'].isin(cap_list)\n",
    "#cap_filter\n",
    "\n",
    "#drug_study_df=cleaned_df.loc[cap_filter,:]\n",
    "#drug_study_df\n",
    "\n",
    "#avg_mouse_weight=drug_study_df.groupby([\"Drug Regimen\"])['Weight (g)'] #.count()\n",
    "#avg_mouse_weight.mean() \n",
    "\n",
    "#us groupyby to look in the drug study for Mouse ID, find the mean weight of each mouse and tumor vol\n",
    "mouse_group=drug_study_df.groupby(\"Mouse ID\")\n",
    "avg_mouse_weight=mouse_group[\"Weight (g)\"].mean()\n",
    "avg_mouse_tumor_vol=mouse_group[\"Tumor Volume (mm3)\"].mean()\n",
    "#find x and y axis\n",
    "x=avg_mouse_weight\n",
    "y=avg_mouse_tumor_vol\n",
    "\n",
    "plt.scatter(x,y)\n",
    "plt.title(f' Tumor Volume vs Mouse Weight for Drug Regimen: {cap_list}')\n",
    "plt.xlabel('Average Weight')\n",
    "plt.ylabel('Average Tumor Volume (mm3)')\n",
    "\n",
    "#y_axis=number_of_measurements.tolist() #this is your y\n",
    "#[\"Drug Regimen\"]\n",
    "#y_axis\n",
    "#make the index x ### how do you do this?\n",
    "\n",
    "#x_axis=list(number_of_measurements.index)\n",
    "#x_axis\n",
    "\n",
    "#plt.scatter(x_axis, data, marker=\"o\", facecolors=\"red\", edgecolors=\"black\",\n",
    "#            s=x_axis, alpha=0.75)\n",
    "\n",
    "# MPG Unsolved notes on difference between plt and plot method using scattter plot method"
   ]
  },
  {
   "cell_type": "markdown",
   "metadata": {},
   "source": [
    "## Correlation and Regression"
   ]
  },
  {
   "cell_type": "code",
   "execution_count": 550,
   "metadata": {},
   "outputs": [
    {
     "data": {
      "image/png": "[encoded data removed]",
      "text/plain": [
       "<Figure size 432x288 with 1 Axes>"
      ]
     },
     "metadata": {
      "needs_background": "light"
     },
     "output_type": "display_data"
    }
   ],
   "source": [
    "# Calculate the correlation coefficient and linear regression model \n",
    "\n",
    "# for mouse weight and average tumor volume for the Capomulin regimen\n",
    "# copy the scatter plot above or create a new dataframe. Here we copied the df from above \n",
    "mouse_group=drug_study_df.groupby(\"Mouse ID\")\n",
    "avg_mouse_weight=mouse_group[\"Weight (g)\"].mean()\n",
    "avg_mouse_tumor_vol=mouse_group[\"Tumor Volume (mm3)\"].mean()\n",
    "# find x and y axis\n",
    "x=avg_mouse_weight\n",
    "y=avg_mouse_tumor_vol\n",
    "#list unpacking \n",
    "\n",
    "slope, intercept, rvalue, pvalue, stderr = linregress(x, y) #list unpacking \n",
    "# y=mx+b #every straight line can be represented by this equation\n",
    "regression=slope+x+intercept\n",
    "regression_label=(f'y={round(slope,2)}x+{round(intercept,2)}')\n",
    "\n",
    "#05-Matplotlib/3/Activites/08-Ins_Fits_and_Regression/Solved\n",
    "#line_eq = \"y = \" + str(round(slope,2)) + \"x + \" + str(round(intercept,2))\n",
    "\n",
    "\n",
    "plt.scatter(x,y)\n",
    "plt.title(f' Tumor Volume vs Mouse Weight for Drug Regimen: {cap_list}')\n",
    "plt.xlabel('Average Weight')\n",
    "plt.ylabel('Average Tumor Volume (mm3)')\n",
    "plt.plot(x,regression, \"r-\")\n",
    "plt.annotate(regression_label, (15,44), fontsize=15, color=\"red\")\n",
    "plt.annotate(f'Correlation Coefficient: {round(rvalue,2)}', (18,36), fontsize=15, color='red')\n",
    "#plt.savefig('../Pymaceuticals/Tumor vol vs mouse weight for Cap.png') # this will save your file\n",
    "\n",
    "#variety to save the figure, line 29 is the other way to do it from pyplot.\n",
    "import os\n",
    "file_path=os.path.join('../', 'Pymaceuticals', 'Tumor Vol vs mouse weight os style')\n",
    "plt.savefig(file_path)"
   ]
  },
  {
   "cell_type": "code",
   "execution_count": null,
   "metadata": {},
   "outputs": [],
   "source": []
  },
  {
   "cell_type": "code",
   "execution_count": null,
   "metadata": {},
   "outputs": [],
   "source": []
  }
 ],
 "metadata": {
  "anaconda-cloud": {},
  "kernelspec": {
   "display_name": "Python 3",
   "language": "python",
   "name": "python3"
  },
  "language_info": {
   "codemirror_mode": {
    "name": "ipython",
    "version": 3
   },
   "file_extension": ".py",
   "mimetype": "text/x-python",
   "name": "python",
   "nbconvert_exporter": "python",
   "pygments_lexer": "ipython3",
   "version": "3.8.3"
  }
 },
 "nbformat": 4,
 "nbformat_minor": 4
}
