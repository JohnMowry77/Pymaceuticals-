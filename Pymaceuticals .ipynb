{
 "cells": [
  {
   "cell_type": "markdown",
   "metadata": {},
   "source": [
    "## Observations and Insights "
   ]
  },
  {
   "cell_type": "markdown",
   "metadata": {},
   "source": []
  },
  {
   "cell_type": "code",
   "execution_count": 174,
   "metadata": {},
   "outputs": [],
   "source": [
    "# Dependencies and Setup\n",
    "import matplotlib.pyplot as plt\n",
    "import pandas as pd\n",
    "import scipy.stats as sts #can we get sem with this?\n",
    "import numpy as np\n",
    "\n",
    "import scipy.stats as sem # the way you write this is different. rewatch class here\n",
    "#import sem seperately # as is alias \n",
    "# Study data files\n",
    "mouse_metadata_path = \"data/Mouse_metadata.csv\"\n",
    "study_results_path = \"data/Study_results.csv\"\n",
    "\n",
    "# Read the mouse data and the study results\n",
    "mouse_metadata = pd.read_csv(mouse_metadata_path)\n",
    "study_results = pd.read_csv(study_results_path)\n",
    "\n",
    "# Combine the data into a single dataset\n",
    "\n",
    "# Merge the two DataFrames together based on the Dates they share\n",
    "all_mice_data = pd.merge(mouse_metadata, study_results, on=\"Mouse ID\")\n",
    "\n",
    "# Display the data table for preview\n",
    "#all_mice_data.head()"
   ]
  },
  {
   "cell_type": "code",
   "execution_count": 175,
   "metadata": {},
   "outputs": [],
   "source": [
    "#mouse_metadata.head()   # Shows you the mouse_metadata original columns pre merge"
   ]
  },
  {
   "cell_type": "code",
   "execution_count": 176,
   "metadata": {},
   "outputs": [],
   "source": [
    "#study_results.head() # Shows you the study_results original columns pre merge"
   ]
  },
  {
   "cell_type": "code",
   "execution_count": 177,
   "metadata": {},
   "outputs": [
    {
     "data": {
      "text/html": [
       "<div>\n",
       "<style scoped>\n",
       "    .dataframe tbody tr th:only-of-type {\n",
       "        vertical-align: middle;\n",
       "    }\n",
       "\n",
       "    .dataframe tbody tr th {\n",
       "        vertical-align: top;\n",
       "    }\n",
       "\n",
       "    .dataframe thead th {\n",
       "        text-align: right;\n",
       "    }\n",
       "</style>\n",
       "<table border=\"1\" class=\"dataframe\">\n",
       "  <thead>\n",
       "    <tr style=\"text-align: right;\">\n",
       "      <th></th>\n",
       "      <th>Mouse ID</th>\n",
       "      <th>Drug Regimen</th>\n",
       "      <th>Sex</th>\n",
       "      <th>Age_months</th>\n",
       "      <th>Weight (g)</th>\n",
       "      <th>Timepoint</th>\n",
       "      <th>Tumor Volume (mm3)</th>\n",
       "      <th>Metastatic Sites</th>\n",
       "    </tr>\n",
       "  </thead>\n",
       "  <tbody>\n",
       "    <tr>\n",
       "      <th>0</th>\n",
       "      <td>k403</td>\n",
       "      <td>Ramicane</td>\n",
       "      <td>Male</td>\n",
       "      <td>21</td>\n",
       "      <td>16</td>\n",
       "      <td>0</td>\n",
       "      <td>45.000000</td>\n",
       "      <td>0</td>\n",
       "    </tr>\n",
       "    <tr>\n",
       "      <th>1</th>\n",
       "      <td>k403</td>\n",
       "      <td>Ramicane</td>\n",
       "      <td>Male</td>\n",
       "      <td>21</td>\n",
       "      <td>16</td>\n",
       "      <td>5</td>\n",
       "      <td>38.825898</td>\n",
       "      <td>0</td>\n",
       "    </tr>\n",
       "    <tr>\n",
       "      <th>2</th>\n",
       "      <td>k403</td>\n",
       "      <td>Ramicane</td>\n",
       "      <td>Male</td>\n",
       "      <td>21</td>\n",
       "      <td>16</td>\n",
       "      <td>10</td>\n",
       "      <td>35.014271</td>\n",
       "      <td>1</td>\n",
       "    </tr>\n",
       "    <tr>\n",
       "      <th>3</th>\n",
       "      <td>k403</td>\n",
       "      <td>Ramicane</td>\n",
       "      <td>Male</td>\n",
       "      <td>21</td>\n",
       "      <td>16</td>\n",
       "      <td>15</td>\n",
       "      <td>34.223992</td>\n",
       "      <td>1</td>\n",
       "    </tr>\n",
       "    <tr>\n",
       "      <th>4</th>\n",
       "      <td>k403</td>\n",
       "      <td>Ramicane</td>\n",
       "      <td>Male</td>\n",
       "      <td>21</td>\n",
       "      <td>16</td>\n",
       "      <td>20</td>\n",
       "      <td>32.997729</td>\n",
       "      <td>1</td>\n",
       "    </tr>\n",
       "    <tr>\n",
       "      <th>...</th>\n",
       "      <td>...</td>\n",
       "      <td>...</td>\n",
       "      <td>...</td>\n",
       "      <td>...</td>\n",
       "      <td>...</td>\n",
       "      <td>...</td>\n",
       "      <td>...</td>\n",
       "      <td>...</td>\n",
       "    </tr>\n",
       "    <tr>\n",
       "      <th>1888</th>\n",
       "      <td>z969</td>\n",
       "      <td>Naftisol</td>\n",
       "      <td>Male</td>\n",
       "      <td>9</td>\n",
       "      <td>30</td>\n",
       "      <td>25</td>\n",
       "      <td>63.145652</td>\n",
       "      <td>2</td>\n",
       "    </tr>\n",
       "    <tr>\n",
       "      <th>1889</th>\n",
       "      <td>z969</td>\n",
       "      <td>Naftisol</td>\n",
       "      <td>Male</td>\n",
       "      <td>9</td>\n",
       "      <td>30</td>\n",
       "      <td>30</td>\n",
       "      <td>65.841013</td>\n",
       "      <td>3</td>\n",
       "    </tr>\n",
       "    <tr>\n",
       "      <th>1890</th>\n",
       "      <td>z969</td>\n",
       "      <td>Naftisol</td>\n",
       "      <td>Male</td>\n",
       "      <td>9</td>\n",
       "      <td>30</td>\n",
       "      <td>35</td>\n",
       "      <td>69.176246</td>\n",
       "      <td>4</td>\n",
       "    </tr>\n",
       "    <tr>\n",
       "      <th>1891</th>\n",
       "      <td>z969</td>\n",
       "      <td>Naftisol</td>\n",
       "      <td>Male</td>\n",
       "      <td>9</td>\n",
       "      <td>30</td>\n",
       "      <td>40</td>\n",
       "      <td>70.314904</td>\n",
       "      <td>4</td>\n",
       "    </tr>\n",
       "    <tr>\n",
       "      <th>1892</th>\n",
       "      <td>z969</td>\n",
       "      <td>Naftisol</td>\n",
       "      <td>Male</td>\n",
       "      <td>9</td>\n",
       "      <td>30</td>\n",
       "      <td>45</td>\n",
       "      <td>73.867845</td>\n",
       "      <td>4</td>\n",
       "    </tr>\n",
       "  </tbody>\n",
       "</table>\n",
       "<p>1893 rows × 8 columns</p>\n",
       "</div>"
      ],
      "text/plain": [
       "     Mouse ID Drug Regimen   Sex  Age_months  Weight (g)  Timepoint  \\\n",
       "0        k403     Ramicane  Male          21          16          0   \n",
       "1        k403     Ramicane  Male          21          16          5   \n",
       "2        k403     Ramicane  Male          21          16         10   \n",
       "3        k403     Ramicane  Male          21          16         15   \n",
       "4        k403     Ramicane  Male          21          16         20   \n",
       "...       ...          ...   ...         ...         ...        ...   \n",
       "1888     z969     Naftisol  Male           9          30         25   \n",
       "1889     z969     Naftisol  Male           9          30         30   \n",
       "1890     z969     Naftisol  Male           9          30         35   \n",
       "1891     z969     Naftisol  Male           9          30         40   \n",
       "1892     z969     Naftisol  Male           9          30         45   \n",
       "\n",
       "      Tumor Volume (mm3)  Metastatic Sites  \n",
       "0              45.000000                 0  \n",
       "1              38.825898                 0  \n",
       "2              35.014271                 1  \n",
       "3              34.223992                 1  \n",
       "4              32.997729                 1  \n",
       "...                  ...               ...  \n",
       "1888           63.145652                 2  \n",
       "1889           65.841013                 3  \n",
       "1890           69.176246                 4  \n",
       "1891           70.314904                 4  \n",
       "1892           73.867845                 4  \n",
       "\n",
       "[1893 rows x 8 columns]"
      ]
     },
     "execution_count": 177,
     "metadata": {},
     "output_type": "execute_result"
    }
   ],
   "source": [
    "#assign all_mice_data to the pandas dataframe module, use the merged data above\n",
    "all_mice_data=pd.DataFrame(all_mice_data)\n",
    "all_mice_data #.dtypes"
   ]
  },
  {
   "cell_type": "code",
   "execution_count": 178,
   "metadata": {},
   "outputs": [],
   "source": [
    "#Remember, there are many ways to approach a data problem. The key is to break up your task into micro tasks. \n",
    "#Try answering questions like:\n",
    "\n",
    "#How does my DataFrame need to be structured for me to have the right _x_-axis and _y_-axis?\n",
    "#x_axis is Drug Regimen, # of samples is y axis \n",
    "\n",
    "#How do I build a basic scatter plot?\n",
    "\n",
    "#How do I add a label to that scatter plot?\n",
    "\n",
    "#Where would the labels for that scatter plot come from?"
   ]
  },
  {
   "cell_type": "code",
   "execution_count": 179,
   "metadata": {},
   "outputs": [],
   "source": [
    "#all_mice_data.columns #show the names of the current columns"
   ]
  },
  {
   "cell_type": "code",
   "execution_count": 180,
   "metadata": {},
   "outputs": [
    {
     "data": {
      "text/plain": [
       "249"
      ]
     },
     "execution_count": 180,
     "metadata": {},
     "output_type": "execute_result"
    }
   ],
   "source": [
    "# Checking the number of mice. \n",
    "mice_count=len(all_mice_data[\"Mouse ID\"].unique())\n",
    "mice_count"
   ]
  },
  {
   "cell_type": "code",
   "execution_count": 181,
   "metadata": {},
   "outputs": [],
   "source": [
    "#filter_mouse_ID=all_mice_data.loc[:, 'Mouse ID']== ['']\n",
    "#all_mice_data.loc[:, \"Mouse ID\"].unique()\n",
    "#Error lengths much match to compare"
   ]
  },
  {
   "cell_type": "code",
   "execution_count": 182,
   "metadata": {},
   "outputs": [],
   "source": [
    "# create a filter_df where 'Mouse ID' is '?'\n",
    "\n",
    "#filter_df=all_mice_data.loc[:, 'Mouse ID']=='False'\n",
    "\n",
    "# df.drop() allows you to pass as argument a list or indices \n",
    "# we have to firstly use df[filter_df] to get a reduced df\n",
    "\n",
    "#filtered_mouse=all_mice_data.drop(all_mice_data[filter_df].index)\n",
    "#filtered_mouse\n",
    "#filtered_mouse.count"
   ]
  },
  {
   "cell_type": "code",
   "execution_count": 183,
   "metadata": {},
   "outputs": [
    {
     "data": {
      "text/plain": [
       "array(['g989'], dtype=object)"
      ]
     },
     "execution_count": 183,
     "metadata": {},
     "output_type": "execute_result"
    }
   ],
   "source": [
    "# Getting the duplicate mice by ID number that shows up for Mouse ID and Timepoint.\n",
    "\n",
    "#PortlandCrime Solved  also #Cleaning Data 04-Pandas/2/Activities/03-Ins_CleaningData/Solved/CleaningData.ipynb\n",
    "#duplicates= all_mice_data.duplicated(subset=(['Mouse ID', 'Timepoint']))\n",
    "#duplicates= all_mice_data.duplicated(subset=(['Mouse ID']))\n",
    "#duplicates.loc[True]\n",
    "#duplicates.head() #Will show False \n",
    "#all_mice_data.loc[duplicates, 'Mouse ID']\n",
    "#duplicates.count()\n",
    "\n",
    "duplicate_mice_filter=all_mice_data.duplicated(subset=['Mouse ID', 'Timepoint'], keep=False)==True\n",
    "\n",
    "# Optional: Get all the data for the duplicate mouse ID. \n",
    "duplicate_mice_study_df=all_mice_data.loc[duplicate_mice_filter,:]\n",
    "duplicate_mice_ID=duplicate_mice_study_df['Mouse ID'].unique()\n",
    "duplicate_mice_ID\n",
    "#duplicate_mice_filter.head()\n",
    "\n",
    "# Getting the unqiue mice by ID number that shows up for Mouse Id and Timepoint:\n",
    "#unique_mice_filter=all_mice_data.duplicated(subset=[\"Mouse ID\", \"Timepoint\"], keep=False)==True\n",
    "\n",
    "\n",
    "#unique_mice_study=all_mice_data.loc[unique_mice_filter,:]\n",
    "#unique_mice_study.head(10)\n",
    "#unique_mice_study=all_mice_data.df.drop(duplicate_mice_id,0)"
   ]
  },
  {
   "cell_type": "code",
   "execution_count": 184,
   "metadata": {},
   "outputs": [
    {
     "data": {
      "text/html": [
       "<div>\n",
       "<style scoped>\n",
       "    .dataframe tbody tr th:only-of-type {\n",
       "        vertical-align: middle;\n",
       "    }\n",
       "\n",
       "    .dataframe tbody tr th {\n",
       "        vertical-align: top;\n",
       "    }\n",
       "\n",
       "    .dataframe thead th {\n",
       "        text-align: right;\n",
       "    }\n",
       "</style>\n",
       "<table border=\"1\" class=\"dataframe\">\n",
       "  <thead>\n",
       "    <tr style=\"text-align: right;\">\n",
       "      <th></th>\n",
       "      <th>Mouse ID</th>\n",
       "      <th>Drug Regimen</th>\n",
       "      <th>Sex</th>\n",
       "      <th>Age_months</th>\n",
       "      <th>Weight (g)</th>\n",
       "      <th>Timepoint</th>\n",
       "      <th>Tumor Volume (mm3)</th>\n",
       "      <th>Metastatic Sites</th>\n",
       "    </tr>\n",
       "  </thead>\n",
       "  <tbody>\n",
       "    <tr>\n",
       "      <th>0</th>\n",
       "      <td>k403</td>\n",
       "      <td>Ramicane</td>\n",
       "      <td>Male</td>\n",
       "      <td>21</td>\n",
       "      <td>16</td>\n",
       "      <td>0</td>\n",
       "      <td>45.000000</td>\n",
       "      <td>0</td>\n",
       "    </tr>\n",
       "    <tr>\n",
       "      <th>1</th>\n",
       "      <td>k403</td>\n",
       "      <td>Ramicane</td>\n",
       "      <td>Male</td>\n",
       "      <td>21</td>\n",
       "      <td>16</td>\n",
       "      <td>5</td>\n",
       "      <td>38.825898</td>\n",
       "      <td>0</td>\n",
       "    </tr>\n",
       "    <tr>\n",
       "      <th>2</th>\n",
       "      <td>k403</td>\n",
       "      <td>Ramicane</td>\n",
       "      <td>Male</td>\n",
       "      <td>21</td>\n",
       "      <td>16</td>\n",
       "      <td>10</td>\n",
       "      <td>35.014271</td>\n",
       "      <td>1</td>\n",
       "    </tr>\n",
       "    <tr>\n",
       "      <th>3</th>\n",
       "      <td>k403</td>\n",
       "      <td>Ramicane</td>\n",
       "      <td>Male</td>\n",
       "      <td>21</td>\n",
       "      <td>16</td>\n",
       "      <td>15</td>\n",
       "      <td>34.223992</td>\n",
       "      <td>1</td>\n",
       "    </tr>\n",
       "    <tr>\n",
       "      <th>4</th>\n",
       "      <td>k403</td>\n",
       "      <td>Ramicane</td>\n",
       "      <td>Male</td>\n",
       "      <td>21</td>\n",
       "      <td>16</td>\n",
       "      <td>20</td>\n",
       "      <td>32.997729</td>\n",
       "      <td>1</td>\n",
       "    </tr>\n",
       "    <tr>\n",
       "      <th>...</th>\n",
       "      <td>...</td>\n",
       "      <td>...</td>\n",
       "      <td>...</td>\n",
       "      <td>...</td>\n",
       "      <td>...</td>\n",
       "      <td>...</td>\n",
       "      <td>...</td>\n",
       "      <td>...</td>\n",
       "    </tr>\n",
       "    <tr>\n",
       "      <th>1888</th>\n",
       "      <td>z969</td>\n",
       "      <td>Naftisol</td>\n",
       "      <td>Male</td>\n",
       "      <td>9</td>\n",
       "      <td>30</td>\n",
       "      <td>25</td>\n",
       "      <td>63.145652</td>\n",
       "      <td>2</td>\n",
       "    </tr>\n",
       "    <tr>\n",
       "      <th>1889</th>\n",
       "      <td>z969</td>\n",
       "      <td>Naftisol</td>\n",
       "      <td>Male</td>\n",
       "      <td>9</td>\n",
       "      <td>30</td>\n",
       "      <td>30</td>\n",
       "      <td>65.841013</td>\n",
       "      <td>3</td>\n",
       "    </tr>\n",
       "    <tr>\n",
       "      <th>1890</th>\n",
       "      <td>z969</td>\n",
       "      <td>Naftisol</td>\n",
       "      <td>Male</td>\n",
       "      <td>9</td>\n",
       "      <td>30</td>\n",
       "      <td>35</td>\n",
       "      <td>69.176246</td>\n",
       "      <td>4</td>\n",
       "    </tr>\n",
       "    <tr>\n",
       "      <th>1891</th>\n",
       "      <td>z969</td>\n",
       "      <td>Naftisol</td>\n",
       "      <td>Male</td>\n",
       "      <td>9</td>\n",
       "      <td>30</td>\n",
       "      <td>40</td>\n",
       "      <td>70.314904</td>\n",
       "      <td>4</td>\n",
       "    </tr>\n",
       "    <tr>\n",
       "      <th>1892</th>\n",
       "      <td>z969</td>\n",
       "      <td>Naftisol</td>\n",
       "      <td>Male</td>\n",
       "      <td>9</td>\n",
       "      <td>30</td>\n",
       "      <td>45</td>\n",
       "      <td>73.867845</td>\n",
       "      <td>4</td>\n",
       "    </tr>\n",
       "  </tbody>\n",
       "</table>\n",
       "<p>1880 rows × 8 columns</p>\n",
       "</div>"
      ],
      "text/plain": [
       "     Mouse ID Drug Regimen   Sex  Age_months  Weight (g)  Timepoint  \\\n",
       "0        k403     Ramicane  Male          21          16          0   \n",
       "1        k403     Ramicane  Male          21          16          5   \n",
       "2        k403     Ramicane  Male          21          16         10   \n",
       "3        k403     Ramicane  Male          21          16         15   \n",
       "4        k403     Ramicane  Male          21          16         20   \n",
       "...       ...          ...   ...         ...         ...        ...   \n",
       "1888     z969     Naftisol  Male           9          30         25   \n",
       "1889     z969     Naftisol  Male           9          30         30   \n",
       "1890     z969     Naftisol  Male           9          30         35   \n",
       "1891     z969     Naftisol  Male           9          30         40   \n",
       "1892     z969     Naftisol  Male           9          30         45   \n",
       "\n",
       "      Tumor Volume (mm3)  Metastatic Sites  \n",
       "0              45.000000                 0  \n",
       "1              38.825898                 0  \n",
       "2              35.014271                 1  \n",
       "3              34.223992                 1  \n",
       "4              32.997729                 1  \n",
       "...                  ...               ...  \n",
       "1888           63.145652                 2  \n",
       "1889           65.841013                 3  \n",
       "1890           69.176246                 4  \n",
       "1891           70.314904                 4  \n",
       "1892           73.867845                 4  \n",
       "\n",
       "[1880 rows x 8 columns]"
      ]
     },
     "execution_count": 184,
     "metadata": {},
     "output_type": "execute_result"
    }
   ],
   "source": [
    "#Create a clean DataFrame by dropping the duplicate mouse by its ID\n",
    "duplicate_mouse=all_mice_data.loc[all_mice_data.duplicated(subset=[\"Mouse ID\", \"Timepoint\"]), \"Mouse ID\"].unique()\n",
    "#test=all_mice_data(all_mice_data[\"Mouse ID\"]=='g989'\n",
    "#test\n",
    "cleaned_df=all_mice_data[all_mice_data[\"Mouse ID\"].isin(duplicate_mouse)==False]\n",
    "cleaned_df  "
   ]
  },
  {
   "cell_type": "code",
   "execution_count": 185,
   "metadata": {},
   "outputs": [
    {
     "data": {
      "text/plain": [
       "248"
      ]
     },
     "execution_count": 185,
     "metadata": {},
     "output_type": "execute_result"
    }
   ],
   "source": [
    "# Checking the number of mice in the clean DataFrame\n",
    "len(cleaned_df[\"Mouse ID\"].unique())"
   ]
  },
  {
   "cell_type": "code",
   "execution_count": 186,
   "metadata": {},
   "outputs": [],
   "source": [
    "#by default it removes duplicate rows based on all columns\n",
    "#to remove duplicates on specific column(s), use subset\n",
    "#to remove duplicates and keep last occurences, use keep\n",
    "#df = pd.DataFrame({\n",
    "#    'brand': ['Yum Yum', 'Yum Yum', 'Indomie', 'Indomie', 'Indomie'],\n",
    "#    'style': ['cup', 'cup', 'cup', 'pack', 'pack'],\n",
    "#     'rating': [4, 4, 3.5, 15, 5]\n",
    "#})\n",
    "#df"
   ]
  },
  {
   "cell_type": "code",
   "execution_count": 187,
   "metadata": {},
   "outputs": [],
   "source": [
    "#To remove duplicates and keep last occurrences, use keep.\n",
    "#df.drop_duplicates(subset=['brand', 'style'], keep='last')\n",
    "\n",
    "#df.drop_duplicates(subset=['brand'])"
   ]
  },
  {
   "cell_type": "code",
   "execution_count": 188,
   "metadata": {},
   "outputs": [],
   "source": [
    "#all_mice_data.dtypes"
   ]
  },
  {
   "cell_type": "code",
   "execution_count": 189,
   "metadata": {},
   "outputs": [],
   "source": [
    "#clean_mice=all_mice_data.sort_values(by=['Mouse ID', 'Timepoint'])\n",
    "#clean_mice.head()"
   ]
  },
  {
   "cell_type": "code",
   "execution_count": 190,
   "metadata": {},
   "outputs": [],
   "source": [
    "# Create a clean DataFrame by dropping the duplicate mouse by its ID.\n",
    "\n",
    "#clean_mice_data=df.drop_duplicates(subset=['Mouse ID', keep='False')\n",
    "#clean_mice_data\n",
    "# where to put the df you are calling. \n",
    "#the way to remember is whenever you see a method, look to the left of the .\n",
    "\n",
    "#clean_mice_df = all_mice_data.drop_duplicates(subset=['Mouse ID'], keep=\"last\")\n",
    "\n",
    "#clean_mice_df = len(all_mice_data.drop_duplicates(subset=['Mouse ID'], keep=False))\n",
    "#clean_mice_df = (all_mice_data.drop_duplicates(subset=['Mouse ID'], keep=False))\n",
    "\n",
    "#clean_mice_df\n",
    "#clean_mice is a new DataFrame, we will call this df for the statistical analysis"
   ]
  },
  {
   "cell_type": "code",
   "execution_count": 191,
   "metadata": {},
   "outputs": [],
   "source": [
    "# Checking the number of mice in the clean DataFrame.\n",
    "#clean_mice_count=len(all_mice_data[\"Mouse ID\"].unique())\n",
    "#clean_mice_count\n",
    "# not accurate \n"
   ]
  },
  {
   "cell_type": "markdown",
   "metadata": {},
   "source": [
    "## Summary Statistics"
   ]
  },
  {
   "cell_type": "code",
   "execution_count": 192,
   "metadata": {},
   "outputs": [],
   "source": [
    "# Generate a summary statistics table of mean, median, variance, standard deviation, and SEM of the tumor volume for each regimen\n",
    "\n",
    "#mean_clean_mice= np.mean(clean_mice_df.loc[:, \"Tumor Volume (mm3)\"]) #need to reference just the tumor volume (Series) for each regimen\n",
    "#print(clean_mice_count[\"Tumor Volume (mm3)\"].mean())\n",
    "# 3:28 into MatPlotlib he mentions you can use pandas for mean and median\n",
    "\n",
    "#mean_mice=cleaned_df[\"Tumor Volume (mm3)\"].mean()\n",
    "#mean_mice\n",
    "#print(f\" The mean of the clean mice tumor volume is {mean_mice}\")"
   ]
  },
  {
   "cell_type": "code",
   "execution_count": 193,
   "metadata": {},
   "outputs": [
    {
     "name": "stdout",
     "output_type": "stream",
     "text": [
      " The mean of the clean mice tumor volume is 50.435293232255326\n",
      " The median tumor volume is 48.933453655\n",
      " The tumor volume variance is 79.46290714557298\n",
      "The tumor volume standard deviation is 8.91419694339166\n",
      "The tumor volume SEM is 0.20559062186986257\n"
     ]
    }
   ],
   "source": [
    "mean_tumor=cleaned_df[\"Tumor Volume (mm3)\"].mean() #use groupby not this way\n",
    "# mean, median, var can use groupby\n",
    "# st deviation and SEM use aggregate function\n",
    "median_tumor=cleaned_df[\"Tumor Volume (mm3)\"].median()\n",
    "#var=st.variation(cleaned_df['Tumor Volume (mm3)'])\n",
    "var=cleaned_df['Tumor Volume (mm3)'].var()\n",
    "st_dev=sts.tstd(cleaned_df['Tumor Volume (mm3)'])\n",
    "sem=sts.sem(cleaned_df['Tumor Volume (mm3)'])\n",
    "\n",
    "#sem_sem=sem(s.(cleaned_df['Tumor Volume (mm30)']]\n",
    "\n",
    "print(f\" The mean of the clean mice tumor volume is {mean_tumor}\")\n",
    "print(f\" The median tumor volume is {median_tumor}\")\n",
    "#print(f\" The tumor volume variance is {var}\")\n",
    "print(f\" The tumor volume variance is {var}\")\n",
    "print(f\"The tumor volume standard deviation is {st_dev}\")\n",
    "print(f\"The tumor volume SEM is {sem}\")"
   ]
  },
  {
   "cell_type": "code",
   "execution_count": 194,
   "metadata": {},
   "outputs": [
    {
     "data": {
      "image/png": "[encoded data removed]",
      "text/plain": [
       "<Figure size 432x288 with 1 Axes>"
      ]
     },
     "metadata": {
      "needs_background": "light"
     },
     "output_type": "display_data"
    },
    {
     "name": "stdout",
     "output_type": "stream",
     "text": [
      " The tumor volume mean is 50.435293232255326\n"
     ]
    }
   ],
   "source": [
    "plt.hist(cleaned_df.loc[:,\"Tumor Volume (mm3)\"], bins=100)\n",
    "plt.show()\n",
    "print(f' The tumor volume mean is {np.mean(cleaned_df.loc[:, \"Tumor Volume (mm3)\"])}')"
   ]
  },
  {
   "cell_type": "code",
   "execution_count": 195,
   "metadata": {},
   "outputs": [
    {
     "data": {
      "text/plain": [
       "NormaltestResult(statistic=27.586936387822888, pvalue=1.0222870917774587e-06)"
      ]
     },
     "execution_count": 195,
     "metadata": {},
     "output_type": "execute_result"
    }
   ],
   "source": [
    "sts.normaltest(cleaned_df.loc[:,\"Tumor Volume (mm3)\"])\n",
    "# this is not a normal distribution, .05% | (5%) is the threshold (p<.05) |=or\n",
    "# pvalue is scientific notation, move the decimal to the left"
   ]
  },
  {
   "cell_type": "code",
   "execution_count": 196,
   "metadata": {},
   "outputs": [],
   "source": [
    "#median_clean_mice= np.median(clean_mice_df.loc[:, \"Tumor Volume (mm3)\"])\n",
    "#print(f\" The median _____ is {median_numpy}\")\n",
    "#median_numpy =.np.mediean(some variable)\n",
    "#median_clean_mice= np.median(clean_mice_df.loc[:, \"Tumor Volume (mm3)\"])\n",
    "\n",
    "#median_tumor=cleaned_df[\"Tumor Volume (mm3)\"].median()\n",
    "#median_tumor\n",
    "#print(f\" The median tumor volume is {median_tumor}\")"
   ]
  },
  {
   "cell_type": "code",
   "execution_count": 197,
   "metadata": {},
   "outputs": [],
   "source": [
    "#use the \n",
    "#var=sts.variation(cleaned_df['Tumor Volume (mm3)'])\n",
    "#var\n",
    "#print(f\" The tumor volume variance is {var}\")\n",
    "#variation is not the same thing as variance\n"
   ]
  },
  {
   "cell_type": "code",
   "execution_count": 198,
   "metadata": {},
   "outputs": [],
   "source": [
    "#var_numpy=cleaned_df['Tumor Volume (mm3)']\n",
    "\n",
    "#var_numpy =np.var(var_numpy, ddof=0) #take the number of dimensions minus 1 to determine the ddof\n",
    "#var_numpy\n",
    "\n",
    "#var_numpy =np.var(var_numpy, ddof=1) #take the number of dimensions minus 1 to determine the ddof\n",
    "#var_numpy\n",
    "\n",
    "# Delta Degrees of Freedom: int, default 1 \n",
    "# start with the variance, this means you take negative values and make them absolute, in either direction it becomes a positive occurance\n",
    "# standard deviation is a measure of distance, it doesn't care about the direction. \n",
    "# the variance will remove the negatives so you can find standard deviation\n",
    "# if we wanted to figure out the standard deviation or the variance you would use a 1 for degress of freedom \n",
    "#print(f\" The tumor volume variance is {var_numpy}\")\n",
    "\n",
    "#var=cleaned_df['Tumor Volume (mm3)'].var()"
   ]
  },
  {
   "cell_type": "code",
   "execution_count": 199,
   "metadata": {},
   "outputs": [],
   "source": [
    "#df.var :Return unbiased variance over requested axis, Parameters: axis: [index[0], columns (1)] \n",
    "#var=cleaned_df['Tumor Volume (mm3)'].var()\n",
    "#var\n",
    "#print(f\" The tumor volume variance is {var}\")"
   ]
  },
  {
   "cell_type": "code",
   "execution_count": 200,
   "metadata": {},
   "outputs": [],
   "source": [
    "#df.std Return sample standard deviation over requested axis. Parameters: axis: [Index(0), columns(1)]\n",
    "#st_dev=st.tstd(cleaned_df['Tumor Volume (mm3)'])\n",
    "#st_dev\n",
    "#print(f\"The tumor volume standard deviation is {st_dev}\")"
   ]
  },
  {
   "cell_type": "code",
   "execution_count": 201,
   "metadata": {},
   "outputs": [],
   "source": [
    "#sd_numpy=cleaned_df['Tumor Volume (mm3)']\n",
    "#sd_numpy = np.std(sd_numpy,ddof = 1)\n",
    "#sd_numpy\n",
    "#print(f\"The tumor volume standard deviation is {sd_numpy}\")"
   ]
  },
  {
   "cell_type": "code",
   "execution_count": 202,
   "metadata": {},
   "outputs": [],
   "source": [
    "#sem=st.sem(cleaned_df['Tumor Volume (mm3)'])\n",
    "#sem\n",
    "#print(f\"The tumor volume SEM is {sem}\")\n",
    "#compute standard error of the mean "
   ]
  },
  {
   "cell_type": "code",
   "execution_count": 203,
   "metadata": {},
   "outputs": [
    {
     "data": {
      "text/html": [
       "<div>\n",
       "<style scoped>\n",
       "    .dataframe tbody tr th:only-of-type {\n",
       "        vertical-align: middle;\n",
       "    }\n",
       "\n",
       "    .dataframe tbody tr th {\n",
       "        vertical-align: top;\n",
       "    }\n",
       "\n",
       "    .dataframe thead th {\n",
       "        text-align: right;\n",
       "    }\n",
       "</style>\n",
       "<table border=\"1\" class=\"dataframe\">\n",
       "  <thead>\n",
       "    <tr style=\"text-align: right;\">\n",
       "      <th></th>\n",
       "      <th>Tumor Mean</th>\n",
       "      <th>Tumor Median</th>\n",
       "      <th>variance</th>\n",
       "      <th>st. deviation</th>\n",
       "      <th>SEM</th>\n",
       "    </tr>\n",
       "  </thead>\n",
       "  <tbody>\n",
       "    <tr>\n",
       "      <th>0</th>\n",
       "      <td>50.435293</td>\n",
       "      <td>48.933454</td>\n",
       "      <td>NaN</td>\n",
       "      <td>8.914197</td>\n",
       "      <td>0.205591</td>\n",
       "    </tr>\n",
       "  </tbody>\n",
       "</table>\n",
       "</div>"
      ],
      "text/plain": [
       "   Tumor Mean    Tumor Median  variance  st. deviation       SEM\n",
       "0    50.435293      48.933454       NaN       8.914197  0.205591"
      ]
     },
     "execution_count": 203,
     "metadata": {},
     "output_type": "execute_result"
    }
   ],
   "source": [
    "#create a dictionary of list to hold the summary statstics\n",
    "stat_sum= {\"Tumor Mean \": [mean_tumor],\n",
    "          \" Tumor Median\": [median_tumor],\n",
    "          \"variance\": [var_numpy], #var_numpy not sure yet\n",
    "           \"st. deviation\":[st_dev],\n",
    "           \"SEM\": [sem]\n",
    "          }\n",
    "stat_sum=pd.DataFrame(stat_sum)\n",
    "stat_sum\n",
    "\n",
    "#all_mice_data=pd.DataFrame(all_mice_data)\n",
    "#all_mice_data\n",
    "\n",
    "# there are 10 drugs"
   ]
  },
  {
   "cell_type": "code",
   "execution_count": 214,
   "metadata": {
    "scrolled": true
   },
   "outputs": [
    {
     "data": {
      "text/html": [
       "<div>\n",
       "<style scoped>\n",
       "    .dataframe tbody tr th:only-of-type {\n",
       "        vertical-align: middle;\n",
       "    }\n",
       "\n",
       "    .dataframe tbody tr th {\n",
       "        vertical-align: top;\n",
       "    }\n",
       "\n",
       "    .dataframe thead th {\n",
       "        text-align: right;\n",
       "    }\n",
       "</style>\n",
       "<table border=\"1\" class=\"dataframe\">\n",
       "  <thead>\n",
       "    <tr style=\"text-align: right;\">\n",
       "      <th></th>\n",
       "      <th>Tumor Mean</th>\n",
       "      <th>Tumor Median</th>\n",
       "      <th>Tumor Variance</th>\n",
       "      <th>Tumor Std Dev</th>\n",
       "      <th>Tumor SEM</th>\n",
       "    </tr>\n",
       "  </thead>\n",
       "  <tbody>\n",
       "    <tr>\n",
       "      <th>count</th>\n",
       "      <td>188.000000</td>\n",
       "      <td>181.500000</td>\n",
       "      <td>589.111111</td>\n",
       "      <td>24.271611</td>\n",
       "      <td>7.675357</td>\n",
       "    </tr>\n",
       "    <tr>\n",
       "      <th>mean</th>\n",
       "      <td>50.975982</td>\n",
       "      <td>53.060651</td>\n",
       "      <td>31.598895</td>\n",
       "      <td>5.621289</td>\n",
       "      <td>1.777608</td>\n",
       "    </tr>\n",
       "    <tr>\n",
       "      <th>std</th>\n",
       "      <td>6.821103</td>\n",
       "      <td>6.794337</td>\n",
       "      <td>1.478889</td>\n",
       "      <td>1.216096</td>\n",
       "      <td>0.384563</td>\n",
       "    </tr>\n",
       "    <tr>\n",
       "      <th>min</th>\n",
       "      <td>39.671507</td>\n",
       "      <td>45.000000</td>\n",
       "      <td>87.454124</td>\n",
       "      <td>9.351691</td>\n",
       "      <td>2.957264</td>\n",
       "    </tr>\n",
       "    <tr>\n",
       "      <th>25%</th>\n",
       "      <td>45.413861</td>\n",
       "      <td>47.299114</td>\n",
       "      <td>19.042464</td>\n",
       "      <td>4.363767</td>\n",
       "      <td>1.379944</td>\n",
       "    </tr>\n",
       "    <tr>\n",
       "      <th>50%</th>\n",
       "      <td>49.902123</td>\n",
       "      <td>51.819532</td>\n",
       "      <td>22.140931</td>\n",
       "      <td>4.705415</td>\n",
       "      <td>1.487983</td>\n",
       "    </tr>\n",
       "    <tr>\n",
       "      <th>75%</th>\n",
       "      <td>55.803194</td>\n",
       "      <td>57.634351</td>\n",
       "      <td>34.468031</td>\n",
       "      <td>5.870948</td>\n",
       "      <td>1.856557</td>\n",
       "    </tr>\n",
       "    <tr>\n",
       "      <th>max</th>\n",
       "      <td>68.628325</td>\n",
       "      <td>72.834180</td>\n",
       "      <td>126.292008</td>\n",
       "      <td>11.237972</td>\n",
       "      <td>3.553759</td>\n",
       "    </tr>\n",
       "  </tbody>\n",
       "</table>\n",
       "</div>"
      ],
      "text/plain": [
       "       Tumor Mean  Tumor Median  Tumor Variance  Tumor Std Dev  Tumor SEM\n",
       "count  188.000000    181.500000      589.111111      24.271611   7.675357\n",
       "mean    50.975982     53.060651       31.598895       5.621289   1.777608\n",
       "std      6.821103      6.794337        1.478889       1.216096   0.384563\n",
       "min     39.671507     45.000000       87.454124       9.351691   2.957264\n",
       "25%     45.413861     47.299114       19.042464       4.363767   1.379944\n",
       "50%     49.902123     51.819532       22.140931       4.705415   1.487983\n",
       "75%     55.803194     57.634351       34.468031       5.870948   1.856557\n",
       "max     68.628325     72.834180      126.292008      11.237972   3.553759"
      ]
     },
     "execution_count": 214,
     "metadata": {},
     "output_type": "execute_result"
    }
   ],
   "source": [
    "# Use groupby and summary statistical methods to calculate the following properties of each drug regimen: \n",
    "# mean, median, variance, standard deviation, and SEM of the tumor volume. \n",
    "drug_df=cleaned_df[['Drug Regimen', 'Tumor Volume (mm3)']]\n",
    "drug_df=drug_df.groupby('Drug Regimen').describe()\n",
    "\n",
    "mean=drug_df.mean()\n",
    "median=drug_df.median()\n",
    "variance=drug_df.var()\n",
    "std=drug_df.std()\n",
    "sem=drug_df.sem()\n",
    "\n",
    "# Assemble the resulting series into a single summary dataframe.\n",
    "\n",
    "data={\"Tumor Mean\": mean['Tumor Volume (mm3)'],\n",
    "     \"Tumor Median\": median['Tumor Volume (mm3)'],\n",
    "      \"Tumor Variance\": variance['Tumor Volume (mm3)'],\n",
    "     \"Tumor Std Dev\": std['Tumor Volume (mm3)'],\n",
    "      \"Tumor SEM\": sem['Tumor Volume (mm3)']\n",
    "     }\n",
    "tumor_stats=pd.DataFrame(data)\n",
    "tumor_stats\n",
    "# "
   ]
  },
  {
   "cell_type": "code",
   "execution_count": 205,
   "metadata": {},
   "outputs": [],
   "source": []
  },
  {
   "cell_type": "code",
   "execution_count": 218,
   "metadata": {},
   "outputs": [
    {
     "ename": "AttributeError",
     "evalue": "module 'pandas' has no attribute 'aggregate'",
     "output_type": "error",
     "traceback": [
      "\u001b[0;31m---------------------------------------------------------------------------\u001b[0m",
      "\u001b[0;31mAttributeError\u001b[0m                            Traceback (most recent call last)",
      "\u001b[0;32m<ipython-input-218-62dc116fff27>\u001b[0m in \u001b[0;36m<module>\u001b[0;34m\u001b[0m\n\u001b[1;32m      9\u001b[0m \u001b[0;31m# Using the aggregation method, produce the same summary statistics in a single line\u001b[0m\u001b[0;34m\u001b[0m\u001b[0;34m\u001b[0m\u001b[0;34m\u001b[0m\u001b[0m\n\u001b[1;32m     10\u001b[0m \u001b[0;31m#tumor_stats=pd.aggregate\u001b[0m\u001b[0;34m\u001b[0m\u001b[0;34m\u001b[0m\u001b[0;34m\u001b[0m\u001b[0m\n\u001b[0;32m---> 11\u001b[0;31m \u001b[0magg_method\u001b[0m\u001b[0;34m=\u001b[0m\u001b[0mpd\u001b[0m\u001b[0;34m.\u001b[0m\u001b[0maggregate\u001b[0m\u001b[0;34m\u001b[0m\u001b[0;34m\u001b[0m\u001b[0m\n\u001b[0m\u001b[1;32m     12\u001b[0m \u001b[0magg_method\u001b[0m\u001b[0;34m\u001b[0m\u001b[0;34m\u001b[0m\u001b[0m\n",
      "\u001b[0;32m/opt/anaconda3/lib/python3.8/site-packages/pandas/__init__.py\u001b[0m in \u001b[0;36m__getattr__\u001b[0;34m(name)\u001b[0m\n\u001b[1;32m    261\u001b[0m             \u001b[0;32mreturn\u001b[0m \u001b[0m_SparseArray\u001b[0m\u001b[0;34m\u001b[0m\u001b[0;34m\u001b[0m\u001b[0m\n\u001b[1;32m    262\u001b[0m \u001b[0;34m\u001b[0m\u001b[0m\n\u001b[0;32m--> 263\u001b[0;31m         \u001b[0;32mraise\u001b[0m \u001b[0mAttributeError\u001b[0m\u001b[0;34m(\u001b[0m\u001b[0;34mf\"module 'pandas' has no attribute '{name}'\"\u001b[0m\u001b[0;34m)\u001b[0m\u001b[0;34m\u001b[0m\u001b[0;34m\u001b[0m\u001b[0m\n\u001b[0m\u001b[1;32m    264\u001b[0m \u001b[0;34m\u001b[0m\u001b[0m\n\u001b[1;32m    265\u001b[0m \u001b[0;34m\u001b[0m\u001b[0m\n",
      "\u001b[0;31mAttributeError\u001b[0m: module 'pandas' has no attribute 'aggregate'"
     ]
    }
   ],
   "source": [
    "# Generate a summary statistics table of mean, median, variance, standard deviation, and SEM of the tumor volume for each regimen\n",
    "#data={\"Tumor Mean\": mean['Tumor Volume (mm3)'],\n",
    "#     \"Tumor Median\": median['Tumor Volume (mm3)'],\n",
    "#      \"Tumor Variance\": variance['Tumor Volume (mm3)'],\n",
    "#     \"Tumor Std Dev\": std['Tumor Volume (mm3)'],\n",
    "#      \"Tumor SEM\": sem['Tumor Volume (mm3)']\n",
    "#     }\n",
    "\n",
    "# Using the aggregation method, produce the same summary statistics in a single line\n",
    "#tumor_stats=pd.aggregate\n",
    "agg_method=pd.aggregate\n",
    "agg_method"
   ]
  },
  {
   "cell_type": "code",
   "execution_count": 258,
   "metadata": {},
   "outputs": [],
   "source": [
    "#agg_method=drug_df.agg({'Tumor Volume (mm3)':['mean', 'median', 'std', 'var', 'sem']}) #this is one line\n",
    "#agg_method"
   ]
  },
  {
   "cell_type": "markdown",
   "metadata": {},
   "source": [
    "## Bar and Pie Charts"
   ]
  },
  {
   "cell_type": "code",
   "execution_count": 212,
   "metadata": {},
   "outputs": [],
   "source": [
    "#number_unique_mice_tested=drug_df.groupby(['Drug Regimen']).count()\n",
    "#plot=number_unique_mice_tested.plot(kind='bar', figsize=(10,5), color='r', fontsize=14)\n",
    "#number_unique_mice_tested\n",
    "\n",
    "#plt.xlabel(\"Drug Regimen\", fontsize= 10)\n",
    "\n",
    "#y label will show how many measurements were taken\n",
    "#plt.ylabel(\"Number of Measurements\", fontsize=10)\n",
    "\n",
    "# this will give you a nice title\n",
    "#plt.title(\"Number of Measurements per Treatement\", fontsize=10)"
   ]
  },
  {
   "cell_type": "code",
   "execution_count": 150,
   "metadata": {
    "scrolled": true
   },
   "outputs": [
    {
     "data": {
      "text/plain": [
       "Text(0.5, 1.0, 'Number of Measurements per Treatement')"
      ]
     },
     "execution_count": 150,
     "metadata": {},
     "output_type": "execute_result"
    },
    {
     "data": {
      "image/png": "[encoded data removed]",
      "text/plain": [
       "<Figure size 720x360 with 1 Axes>"
      ]
     },
     "metadata": {
      "needs_background": "light"
     },
     "output_type": "display_data"
    }
   ],
   "source": [
    "# Generate a bar plot showing the total number of measurements taken on each drug regimen using pandas.\n",
    "\n",
    "# pandas uses the .plot method #there are alot more methods available on plt \n",
    "# the formatting part you will have to mix and match. \n",
    "# x-axis different regimens \n",
    "# y- axis all the measurements w/ multiple measurements per mouse (clean_mice_df)\n",
    "number_of_measurements=cleaned_df.groupby([\"Drug Regimen\"]).count()#.sort_values([\"Drug Regimen\"], ascending=False)\n",
    "\n",
    "#difference between pandas and pyplot: Pandas bar plots are categorical in nature. This means, bars are positioned\n",
    "# at subsequent integer numbers, and each bar gets a tick with a lable according to the index of the df. \n",
    "\n",
    "###Stelasyn only has 24, the rest have 25\n",
    "# Pandas Plot use .plot #Pyplot use plt.plot\n",
    "#figsize sets the figure for the plot, requires a float, width height in inches\n",
    "plot=number_of_measurements.plot(kind='bar', figsize=(10,5), color='r', fontsize=14)\n",
    "number_of_measurements\n",
    "# when kind is 'bar' by default the x_axis is going to be the index of the data_frame, we assign it to a different Series \"Drug Regimen\" below.\n",
    "# the columns will be the bars, unless we specifiy only one Series ('Number of Measurements')\n",
    "# x_axis drug regimen will put each drug in its own respective column with a bar chart\n",
    "\n",
    "plt.xlabel(\"Drug Regimen\", fontsize= 10)\n",
    "#y label will show how many measurements were taken\n",
    "plt.ylabel(\"Number of Measurements\", fontsize=10)\n",
    "# this will give you a nice title \n",
    "plt.title(\"Number of Measurements per Treatement\", fontsize=10)\n",
    "#plt.legend()\n",
    "\n",
    "#How do I rearrange these? so that Capomulin and Ramicane are index 0 and 1? \n",
    "\n",
    "\n",
    "# if need to save\n",
    "# Save an image of the chart and print it to the screen\n",
    "#plt.savefig(\"../Pymaceuticals-/num_measure_regimen.png\")\n",
    "#plt.show()"
   ]
  },
  {
   "cell_type": "code",
   "execution_count": 224,
   "metadata": {},
   "outputs": [
    {
     "data": {
      "text/plain": [
       "Text(0.5, 1.0, 'Number of Measurements per Treatement')"
      ]
     },
     "execution_count": 224,
     "metadata": {},
     "output_type": "execute_result"
    },
    {
     "data": {
      "image/png": "[encoded data removed]",
      "text/plain": [
       "<Figure size 432x288 with 1 Axes>"
      ]
     },
     "metadata": {
      "needs_background": "light"
     },
     "output_type": "display_data"
    }
   ],
   "source": [
    "# Generate a bar plot showing the total number of measurements taken on each drug regimen using pyplot.\n",
    "\n",
    "number_of_measurements=cleaned_df.groupby([\"Drug Regimen\"]).count()['Tumor Volume (mm3)']\n",
    "number_of_measurements\n",
    "y_axis=number_of_measurements.tolist() #this is your y\n",
    "#[\"Drug Regimen\"]\n",
    "#y_axis\n",
    "#make the index x ### how do you do this?\n",
    "x_axis=list(number_of_measurements.index)\n",
    "x_axis\n",
    "# to get the index you do the dataframe name .index\n",
    "# right now num_of_measurements is an entire df.\n",
    "\n",
    "#below you are trying to pass this df as a list, it is giving you an error\n",
    "#need_a_list=[number_of_measurements]\n",
    "\n",
    "#how do you convert the series above so that it is two list. one for the index and one for the values\n",
    "#look this up\n",
    "\n",
    "\n",
    "\n",
    "\n",
    "#x_axis=np.arange(number_of_measurements)\n",
    "#x_axis\n",
    "\n",
    "# x-axis different regimens  #y- axis all the measurements w/ multiple measurements per mouse (cleaned_df)\n",
    "#if you want to use the plt.plot method, remember you have to supply it with both the x and y axis \n",
    "# Unemployment 1:10 into Pandas 3\n",
    "\n",
    "#plt.bar is using matplotlib\n",
    "plt.bar(x_axis, y_axis, color='g', alpha=0.5, align=\"center\")\n",
    "plt.xlabel(\"Drug Regimen\", fontsize= 10)\n",
    "#y label will show how many measurements were taken\n",
    "plt.ylabel(\"Number of Measurements\", fontsize=10)\n",
    "# this will give you a nice title \n",
    "plt.title(\"Number of Measurements per Treatement\", fontsize=10)\n",
    "\n",
    "#use the Rot as an argument to the dr.plot()method\n",
    "\n",
    "#x_axis= clean_mice_df.keys()\n",
    "#x_axis\n",
    "#plt.plot(x_axis[[\"Drug Regimen\"], number_of_measurements])\n",
    "#Drug Regimen"
   ]
  },
  {
   "cell_type": "code",
   "execution_count": 124,
   "metadata": {},
   "outputs": [],
   "source": [
    "#mice_gender=clean_mice_df.loc[:, ['Sex']].groupby('Sex')\n",
    "#mice_gender=clean_mice_df.loc[:, ['Mouse ID', 'Sex']].groupby('Sex')\n",
    "#mice_gender.count()\n",
    "#use df.loc[all rows, [2 Series]].group it by (the 'Sex' series)then count\n",
    "\n",
    "#clean_mice_df.loc[:, 'Sex'].value_counts() #another way to see the m/f counts not in a table"
   ]
  },
  {
   "cell_type": "code",
   "execution_count": 226,
   "metadata": {},
   "outputs": [],
   "source": [
    "# Find the value_counts of each sex. This will be useful/convenient as once you have it\n",
    "# you can do a .plot() against it immediately after.\n",
    "mice_gender=cleaned_df[\"Sex\"]\n",
    "mice_gender=mice_gender.value_counts()#.plot()"
   ]
  },
  {
   "cell_type": "code",
   "execution_count": 105,
   "metadata": {},
   "outputs": [
    {
     "data": {
      "text/plain": [
       "Male      958\n",
       "Female    922\n",
       "Name: Sex, dtype: int64"
      ]
     },
     "execution_count": 105,
     "metadata": {},
     "output_type": "execute_result"
    }
   ],
   "source": [
    "mice_gender\n"
   ]
  },
  {
   "cell_type": "code",
   "execution_count": 107,
   "metadata": {},
   "outputs": [
    {
     "data": {
      "image/png": "[encoded data removed]",
      "text/plain": [
       "<Figure size 792x432 with 1 Axes>"
      ]
     },
     "metadata": {},
     "output_type": "display_data"
    }
   ],
   "source": [
    "# Generate a pie plot showing the distribution of female versus male mice using pandas\n",
    "\n",
    "# for pandas plot to work, the value_counts of the \"Sex\" column is all that's needed to for the pie plot data. \n",
    "# No need for mouse id. \n",
    "\n",
    "mice_gender_plot=mice_gender.plot.pie(figsize=(11,6))\n",
    "\n",
    "#pandas plot you just use the series for the df to plt\n",
    "#cleaned_df.plot(x y='Sex', kind='pie')\n",
    "#plt.show()\n",
    "\n",
    "#if you clean your data in a df then it's easier to use pandas plot\n",
    "#if you clean using list it is easier to use matplotlib\n"
   ]
  },
  {
   "cell_type": "code",
   "execution_count": 129,
   "metadata": {},
   "outputs": [],
   "source": [
    "#clean_mice_df.loc[:, ['Mouse ID', 'Sex']].groupby('Sex').count().plot(kind='bar')#Male/Female Bar Plot"
   ]
  },
  {
   "cell_type": "code",
   "execution_count": 95,
   "metadata": {},
   "outputs": [],
   "source": [
    "#mice_sex=clean_mice_df['Sex']=clean_mice_df['Sex'].astype(float)\n",
    "#mice_sex=clean_mice_df.loc[:,'Sex']=clean_mice_df['Sex'].astype(float)\n",
    "#mice_sex.dtypes()\n",
    "#this should have converted the 'Sex' Series to a float, us astype str to make it an object"
   ]
  },
  {
   "cell_type": "code",
   "execution_count": 90,
   "metadata": {},
   "outputs": [],
   "source": [
    "#clean_mice_df.dtypes"
   ]
  },
  {
   "cell_type": "code",
   "execution_count": 227,
   "metadata": {},
   "outputs": [
    {
     "name": "stderr",
     "output_type": "stream",
     "text": [
      "<ipython-input-227-d2ff53133fb1>:7: MatplotlibDeprecationWarning: Non-1D inputs to pie() are currently squeeze()d, but this behavior is deprecated since 3.1 and will be removed in 3.3; pass a 1D array instead.\n",
      "  plt.pie(gender_diff,explode=explode, labels=labels, colors=colors, autopct=\"%1.1f%%\")\n"
     ]
    },
    {
     "data": {
      "text/plain": [
       "([<matplotlib.patches.Wedge at 0x7f8ddac76e80>,\n",
       "  <matplotlib.patches.Wedge at 0x7f8ddac842e0>],\n",
       " [Text(-0.03608946990830779, 1.1994571897995099, 'Female'),\n",
       "  Text(0.033082014082615095, -1.0995024239828841, 'Male')],\n",
       " [Text(-0.021052190779846207, 0.6996833607163808, '51.0%'),\n",
       "  Text(0.018044734954153686, -0.5997285948997549, '49.0%')])"
      ]
     },
     "execution_count": 227,
     "metadata": {},
     "output_type": "execute_result"
    },
    {
     "data": {
      "image/png": "[encoded data removed]",
      "text/plain": [
       "<Figure size 432x288 with 1 Axes>"
      ]
     },
     "metadata": {},
     "output_type": "display_data"
    }
   ],
   "source": [
    "# Generate a pie plot showing the distribution of female versus male mice using pyplot\n",
    "# create lables for our pie chart\n",
    "labels=[\"Female\", \"Male\"]\n",
    "gender_diff=[mice_gender]\n",
    "colors = [\"red\", \"orange\"]\n",
    "explode=(0.1,0)\n",
    "plt.pie(gender_diff,explode=explode, labels=labels, colors=colors, autopct=\"%1.1f%%\")\n",
    "\n",
    "# 05-Stu_BikeTrippin-Groupby/Unsolved we worked on this to get a pie chart for male/female bikeid\n",
    "\n",
    "# use plt.pie but figure out how to make the series above (the mice gender) split this in between index and values\n",
    "# make both of these a seperate list, for x and y (like the bar chart above using pyplot)"
   ]
  },
  {
   "cell_type": "markdown",
   "metadata": {},
   "source": [
    "## Quartiles, Outliers and Boxplots"
   ]
  },
  {
   "cell_type": "code",
   "execution_count": null,
   "metadata": {},
   "outputs": [],
   "source": [
    "#Capomulin's potential outliers: \n",
    "#Capomulin's potential outliers: Series([], Name: Tumor Volume (mm3), dtype: float64)\n",
    "#Ramicane's'potential outliers: Series([], Name: Tumor Volume (mm3), dtype: float64)\n",
    "#Infubinol's potential outliers: 31 36.321346. Name: Tumor Volume (mm3), dtype.float64\n",
    "\n",
    "# the value 36.32 has an index of 31. there is only one outlier\n",
    "\n",
    "#Ceftamin's potential outliers: Series([], Name: Tumor Volume (mm3), dtype: float64)"
   ]
  },
  {
   "cell_type": "code",
   "execution_count": 59,
   "metadata": {},
   "outputs": [
    {
     "data": {
      "text/html": [
       "<div>\n",
       "<style scoped>\n",
       "    .dataframe tbody tr th:only-of-type {\n",
       "        vertical-align: middle;\n",
       "    }\n",
       "\n",
       "    .dataframe tbody tr th {\n",
       "        vertical-align: top;\n",
       "    }\n",
       "\n",
       "    .dataframe thead th {\n",
       "        text-align: right;\n",
       "    }\n",
       "</style>\n",
       "<table border=\"1\" class=\"dataframe\">\n",
       "  <thead>\n",
       "    <tr style=\"text-align: right;\">\n",
       "      <th></th>\n",
       "      <th>Mouse ID</th>\n",
       "      <th>Timepoint</th>\n",
       "      <th>Drug Regimen</th>\n",
       "      <th>Sex</th>\n",
       "      <th>Age_months</th>\n",
       "      <th>Weight (g)</th>\n",
       "      <th>Tumor Volume (mm3)</th>\n",
       "      <th>Metastatic Sites</th>\n",
       "    </tr>\n",
       "  </thead>\n",
       "  <tbody>\n",
       "    <tr>\n",
       "      <th>0</th>\n",
       "      <td>a203</td>\n",
       "      <td>45</td>\n",
       "      <td>Infubinol</td>\n",
       "      <td>Female</td>\n",
       "      <td>20</td>\n",
       "      <td>23</td>\n",
       "      <td>67.973419</td>\n",
       "      <td>2</td>\n",
       "    </tr>\n",
       "    <tr>\n",
       "      <th>1</th>\n",
       "      <td>a251</td>\n",
       "      <td>45</td>\n",
       "      <td>Infubinol</td>\n",
       "      <td>Female</td>\n",
       "      <td>21</td>\n",
       "      <td>25</td>\n",
       "      <td>65.525743</td>\n",
       "      <td>1</td>\n",
       "    </tr>\n",
       "    <tr>\n",
       "      <th>2</th>\n",
       "      <td>a275</td>\n",
       "      <td>45</td>\n",
       "      <td>Ceftamin</td>\n",
       "      <td>Female</td>\n",
       "      <td>20</td>\n",
       "      <td>28</td>\n",
       "      <td>62.999356</td>\n",
       "      <td>3</td>\n",
       "    </tr>\n",
       "    <tr>\n",
       "      <th>3</th>\n",
       "      <td>a411</td>\n",
       "      <td>45</td>\n",
       "      <td>Ramicane</td>\n",
       "      <td>Male</td>\n",
       "      <td>3</td>\n",
       "      <td>22</td>\n",
       "      <td>38.407618</td>\n",
       "      <td>1</td>\n",
       "    </tr>\n",
       "    <tr>\n",
       "      <th>4</th>\n",
       "      <td>a444</td>\n",
       "      <td>45</td>\n",
       "      <td>Ramicane</td>\n",
       "      <td>Female</td>\n",
       "      <td>10</td>\n",
       "      <td>25</td>\n",
       "      <td>43.047543</td>\n",
       "      <td>0</td>\n",
       "    </tr>\n",
       "    <tr>\n",
       "      <th>...</th>\n",
       "      <td>...</td>\n",
       "      <td>...</td>\n",
       "      <td>...</td>\n",
       "      <td>...</td>\n",
       "      <td>...</td>\n",
       "      <td>...</td>\n",
       "      <td>...</td>\n",
       "      <td>...</td>\n",
       "    </tr>\n",
       "    <tr>\n",
       "      <th>95</th>\n",
       "      <td>y769</td>\n",
       "      <td>45</td>\n",
       "      <td>Ceftamin</td>\n",
       "      <td>Female</td>\n",
       "      <td>6</td>\n",
       "      <td>27</td>\n",
       "      <td>68.594745</td>\n",
       "      <td>4</td>\n",
       "    </tr>\n",
       "    <tr>\n",
       "      <th>96</th>\n",
       "      <td>y793</td>\n",
       "      <td>45</td>\n",
       "      <td>Capomulin</td>\n",
       "      <td>Male</td>\n",
       "      <td>17</td>\n",
       "      <td>17</td>\n",
       "      <td>31.896238</td>\n",
       "      <td>2</td>\n",
       "    </tr>\n",
       "    <tr>\n",
       "      <th>97</th>\n",
       "      <td>y865</td>\n",
       "      <td>45</td>\n",
       "      <td>Ceftamin</td>\n",
       "      <td>Male</td>\n",
       "      <td>23</td>\n",
       "      <td>26</td>\n",
       "      <td>64.729837</td>\n",
       "      <td>3</td>\n",
       "    </tr>\n",
       "    <tr>\n",
       "      <th>98</th>\n",
       "      <td>z578</td>\n",
       "      <td>45</td>\n",
       "      <td>Ramicane</td>\n",
       "      <td>Male</td>\n",
       "      <td>11</td>\n",
       "      <td>16</td>\n",
       "      <td>30.638696</td>\n",
       "      <td>0</td>\n",
       "    </tr>\n",
       "    <tr>\n",
       "      <th>99</th>\n",
       "      <td>z581</td>\n",
       "      <td>45</td>\n",
       "      <td>Infubinol</td>\n",
       "      <td>Female</td>\n",
       "      <td>24</td>\n",
       "      <td>25</td>\n",
       "      <td>62.754451</td>\n",
       "      <td>3</td>\n",
       "    </tr>\n",
       "  </tbody>\n",
       "</table>\n",
       "<p>100 rows × 8 columns</p>\n",
       "</div>"
      ],
      "text/plain": [
       "   Mouse ID  Timepoint Drug Regimen     Sex  Age_months  Weight (g)  \\\n",
       "0      a203         45    Infubinol  Female          20          23   \n",
       "1      a251         45    Infubinol  Female          21          25   \n",
       "2      a275         45     Ceftamin  Female          20          28   \n",
       "3      a411         45     Ramicane    Male           3          22   \n",
       "4      a444         45     Ramicane  Female          10          25   \n",
       "..      ...        ...          ...     ...         ...         ...   \n",
       "95     y769         45     Ceftamin  Female           6          27   \n",
       "96     y793         45    Capomulin    Male          17          17   \n",
       "97     y865         45     Ceftamin    Male          23          26   \n",
       "98     z578         45     Ramicane    Male          11          16   \n",
       "99     z581         45    Infubinol  Female          24          25   \n",
       "\n",
       "    Tumor Volume (mm3)  Metastatic Sites  \n",
       "0            67.973419                 2  \n",
       "1            65.525743                 1  \n",
       "2            62.999356                 3  \n",
       "3            38.407618                 1  \n",
       "4            43.047543                 0  \n",
       "..                 ...               ...  \n",
       "95           68.594745                 4  \n",
       "96           31.896238                 2  \n",
       "97           64.729837                 3  \n",
       "98           30.638696                 0  \n",
       "99           62.754451                 3  \n",
       "\n",
       "[100 rows x 8 columns]"
      ]
     },
     "execution_count": 59,
     "metadata": {},
     "output_type": "execute_result"
    }
   ],
   "source": [
    "# Calculate the final tumor volume of each mouse across four of the treatment regimens:  \n",
    "# Capomulin, Ramicane, Infubinol, and Ceftamin\n",
    "\n",
    "# Create a list of the drugs in the study\n",
    "drugs_in_study=[\"Capomulin\" , \"Ramicane\", \"Infubinol\",\"Ceftamin\"]\n",
    "\n",
    "# From Class Day 3 Matplotlib 3:25 into class. \n",
    "#If the data is in a dataframe, we use pandas to give quartile calculations\n",
    "#fourdrugs=clean_mice_df.quantile([.25,.5.75])\n",
    "\n",
    "# here we are assigning the cleaned_dataframe to a variable drugs_in_study_df, within cleaned_dataframe the \n",
    "# Drug Regimen Series is it in the drugs_in_study list \n",
    "# if it is show me with a hanging object: drugs_in_study\n",
    "drugs_in_study_df=cleaned_df[cleaned_df['Drug Regimen'].isin(drugs_in_study)]\n",
    "#drugs_in_study\n",
    "\n",
    "# Start by getting the last (greatest) timepoint for each mouse\n",
    "# here we are assigning the max timepoint to the drugs_in_study_list we just made a df (drugs_in_study_df) and using the groupby method\n",
    "# to look at the Series 'Mouse ID' and the Series 'Timepoint'. Find the highest timepoint for each Mouse ID\n",
    "max_timepoint=drugs_in_study_df.groupby('Mouse ID')['Timepoint'].max()\n",
    "#max_timepoint\n",
    "\n",
    "\n",
    "# Merge this group df with the original dataframe to get the tumor volume at the last timepoint\n",
    "# we will create a new DataFrame called drug_in_study_max and we will assign using the pd.merge method the max_timepoint, \n",
    "#the cleaned_df, on the Mouse ID and Timepoint columns (these are each a Series)\n",
    "drug_in_study_max=pd.merge(max_timepoint, cleaned_df, on=('Mouse ID', 'Timepoint'))\n",
    "drug_in_study_max\n",
    "\n",
    "#clean_data.groupby('Mouse')[\"Timepoint\"].max()\n",
    "# it will be a merge \n",
    "#pd.merge(max_timepoint, clean_data, on=['Mouse ID', 'Timepoint'])\n",
    "# using the merge to use this type of filer is neat and this type of thinking is good.\n",
    "# mastery over the merge concept will be fantastic for you. \n",
    "\n",
    "#is there a way in pandas to give us the row\n",
    "# what is the last time point for the mouse"
   ]
  },
  {
   "cell_type": "code",
   "execution_count": null,
   "metadata": {},
   "outputs": [],
   "source": [
    "#above is correct but not in the order they want you to do it"
   ]
  },
  {
   "cell_type": "code",
   "execution_count": 238,
   "metadata": {},
   "outputs": [],
   "source": [
    "#times = [96,98,100,105,85,88,95,100,101,102,97,98,5]\n",
    "#fig1, ax1 = plt.subplots()\n",
    "#ax1.set_title('Reaction Times at Baseball Batting Cage')\n",
    "#ax1.set_ylabel('Reaction Time (ms)')\n",
    "#ax1.boxplot(times)\n",
    "#ax1.boxplot(times, showfliers=False)"
   ]
  },
  {
   "cell_type": "code",
   "execution_count": 239,
   "metadata": {},
   "outputs": [],
   "source": [
    "#drug_df=cleaned_df[['Drug Regimen', 'Tumor Volume (mm3)']]\n",
    "#drug_dfx=drug_df.groupby('Drug Regimen') #does this work?\n",
    "#drug_dfx.describe()"
   ]
  },
  {
   "cell_type": "code",
   "execution_count": 247,
   "metadata": {},
   "outputs": [
    {
     "data": {
      "text/plain": [
       "['Capomulin', 'Ramicane', 'Infubinol', 'Ceftamin']"
      ]
     },
     "execution_count": 247,
     "metadata": {},
     "output_type": "execute_result"
    }
   ],
   "source": [
    "drugs=[\"Capomulin\" , \"Ramicane\", \"Infubinol\",\"Ceftamin\"]\n",
    "drugs"
   ]
  },
  {
   "cell_type": "code",
   "execution_count": 261,
   "metadata": {},
   "outputs": [
    {
     "data": {
      "text/plain": [
       "0        True\n",
       "1        True\n",
       "2        True\n",
       "3        True\n",
       "4        True\n",
       "        ...  \n",
       "1888    False\n",
       "1889    False\n",
       "1890    False\n",
       "1891    False\n",
       "1892    False\n",
       "Name: Drug Regimen, Length: 1880, dtype: bool"
      ]
     },
     "execution_count": 261,
     "metadata": {},
     "output_type": "execute_result"
    }
   ],
   "source": [
    "drug_filter=cleaned_df.loc[:,'Drug Regimen'].isin(drugs)\n",
    "drug_filter"
   ]
  },
  {
   "cell_type": "code",
   "execution_count": 262,
   "metadata": {},
   "outputs": [
    {
     "data": {
      "text/html": [
       "<div>\n",
       "<style scoped>\n",
       "    .dataframe tbody tr th:only-of-type {\n",
       "        vertical-align: middle;\n",
       "    }\n",
       "\n",
       "    .dataframe tbody tr th {\n",
       "        vertical-align: top;\n",
       "    }\n",
       "\n",
       "    .dataframe thead th {\n",
       "        text-align: right;\n",
       "    }\n",
       "</style>\n",
       "<table border=\"1\" class=\"dataframe\">\n",
       "  <thead>\n",
       "    <tr style=\"text-align: right;\">\n",
       "      <th></th>\n",
       "      <th>Mouse ID</th>\n",
       "      <th>Drug Regimen</th>\n",
       "      <th>Sex</th>\n",
       "      <th>Age_months</th>\n",
       "      <th>Weight (g)</th>\n",
       "      <th>Timepoint</th>\n",
       "      <th>Tumor Volume (mm3)</th>\n",
       "      <th>Metastatic Sites</th>\n",
       "    </tr>\n",
       "  </thead>\n",
       "  <tbody>\n",
       "    <tr>\n",
       "      <th>0</th>\n",
       "      <td>k403</td>\n",
       "      <td>Ramicane</td>\n",
       "      <td>Male</td>\n",
       "      <td>21</td>\n",
       "      <td>16</td>\n",
       "      <td>0</td>\n",
       "      <td>45.000000</td>\n",
       "      <td>0</td>\n",
       "    </tr>\n",
       "    <tr>\n",
       "      <th>1</th>\n",
       "      <td>k403</td>\n",
       "      <td>Ramicane</td>\n",
       "      <td>Male</td>\n",
       "      <td>21</td>\n",
       "      <td>16</td>\n",
       "      <td>5</td>\n",
       "      <td>38.825898</td>\n",
       "      <td>0</td>\n",
       "    </tr>\n",
       "    <tr>\n",
       "      <th>2</th>\n",
       "      <td>k403</td>\n",
       "      <td>Ramicane</td>\n",
       "      <td>Male</td>\n",
       "      <td>21</td>\n",
       "      <td>16</td>\n",
       "      <td>10</td>\n",
       "      <td>35.014271</td>\n",
       "      <td>1</td>\n",
       "    </tr>\n",
       "    <tr>\n",
       "      <th>3</th>\n",
       "      <td>k403</td>\n",
       "      <td>Ramicane</td>\n",
       "      <td>Male</td>\n",
       "      <td>21</td>\n",
       "      <td>16</td>\n",
       "      <td>15</td>\n",
       "      <td>34.223992</td>\n",
       "      <td>1</td>\n",
       "    </tr>\n",
       "    <tr>\n",
       "      <th>4</th>\n",
       "      <td>k403</td>\n",
       "      <td>Ramicane</td>\n",
       "      <td>Male</td>\n",
       "      <td>21</td>\n",
       "      <td>16</td>\n",
       "      <td>20</td>\n",
       "      <td>32.997729</td>\n",
       "      <td>1</td>\n",
       "    </tr>\n",
       "    <tr>\n",
       "      <th>...</th>\n",
       "      <td>...</td>\n",
       "      <td>...</td>\n",
       "      <td>...</td>\n",
       "      <td>...</td>\n",
       "      <td>...</td>\n",
       "      <td>...</td>\n",
       "      <td>...</td>\n",
       "      <td>...</td>\n",
       "    </tr>\n",
       "    <tr>\n",
       "      <th>1868</th>\n",
       "      <td>z581</td>\n",
       "      <td>Infubinol</td>\n",
       "      <td>Female</td>\n",
       "      <td>24</td>\n",
       "      <td>25</td>\n",
       "      <td>25</td>\n",
       "      <td>54.316407</td>\n",
       "      <td>2</td>\n",
       "    </tr>\n",
       "    <tr>\n",
       "      <th>1869</th>\n",
       "      <td>z581</td>\n",
       "      <td>Infubinol</td>\n",
       "      <td>Female</td>\n",
       "      <td>24</td>\n",
       "      <td>25</td>\n",
       "      <td>30</td>\n",
       "      <td>56.286750</td>\n",
       "      <td>2</td>\n",
       "    </tr>\n",
       "    <tr>\n",
       "      <th>1870</th>\n",
       "      <td>z581</td>\n",
       "      <td>Infubinol</td>\n",
       "      <td>Female</td>\n",
       "      <td>24</td>\n",
       "      <td>25</td>\n",
       "      <td>35</td>\n",
       "      <td>58.628399</td>\n",
       "      <td>3</td>\n",
       "    </tr>\n",
       "    <tr>\n",
       "      <th>1871</th>\n",
       "      <td>z581</td>\n",
       "      <td>Infubinol</td>\n",
       "      <td>Female</td>\n",
       "      <td>24</td>\n",
       "      <td>25</td>\n",
       "      <td>40</td>\n",
       "      <td>60.053740</td>\n",
       "      <td>3</td>\n",
       "    </tr>\n",
       "    <tr>\n",
       "      <th>1872</th>\n",
       "      <td>z581</td>\n",
       "      <td>Infubinol</td>\n",
       "      <td>Female</td>\n",
       "      <td>24</td>\n",
       "      <td>25</td>\n",
       "      <td>45</td>\n",
       "      <td>62.754451</td>\n",
       "      <td>3</td>\n",
       "    </tr>\n",
       "  </tbody>\n",
       "</table>\n",
       "<p>814 rows × 8 columns</p>\n",
       "</div>"
      ],
      "text/plain": [
       "     Mouse ID Drug Regimen     Sex  Age_months  Weight (g)  Timepoint  \\\n",
       "0        k403     Ramicane    Male          21          16          0   \n",
       "1        k403     Ramicane    Male          21          16          5   \n",
       "2        k403     Ramicane    Male          21          16         10   \n",
       "3        k403     Ramicane    Male          21          16         15   \n",
       "4        k403     Ramicane    Male          21          16         20   \n",
       "...       ...          ...     ...         ...         ...        ...   \n",
       "1868     z581    Infubinol  Female          24          25         25   \n",
       "1869     z581    Infubinol  Female          24          25         30   \n",
       "1870     z581    Infubinol  Female          24          25         35   \n",
       "1871     z581    Infubinol  Female          24          25         40   \n",
       "1872     z581    Infubinol  Female          24          25         45   \n",
       "\n",
       "      Tumor Volume (mm3)  Metastatic Sites  \n",
       "0              45.000000                 0  \n",
       "1              38.825898                 0  \n",
       "2              35.014271                 1  \n",
       "3              34.223992                 1  \n",
       "4              32.997729                 1  \n",
       "...                  ...               ...  \n",
       "1868           54.316407                 2  \n",
       "1869           56.286750                 2  \n",
       "1870           58.628399                 3  \n",
       "1871           60.053740                 3  \n",
       "1872           62.754451                 3  \n",
       "\n",
       "[814 rows x 8 columns]"
      ]
     },
     "execution_count": 262,
     "metadata": {},
     "output_type": "execute_result"
    }
   ],
   "source": [
    "drugs_in_study=cleaned_df.loc[drug_filter, :] # You can put 'Tumor Volume (mm3)' for : if you only want that Series\n",
    "drugs_in_study"
   ]
  },
  {
   "cell_type": "code",
   "execution_count": 255,
   "metadata": {},
   "outputs": [],
   "source": [
    "\n",
    "#number_list = [ x for x in range(20) if x % 2 == 0]\n",
    "#print(number_list)"
   ]
  },
  {
   "cell_type": "code",
   "execution_count": null,
   "metadata": {},
   "outputs": [],
   "source": []
  },
  {
   "cell_type": "code",
   "execution_count": 252,
   "metadata": {},
   "outputs": [
    {
     "name": "stdout",
     "output_type": "stream",
     "text": [
      "['Capomulin', 'Ramicane', 'Infubinol', 'Ceftamin']\n",
      "['Capomulin', 'Ramicane', 'Infubinol', 'Ceftamin']\n",
      "['Capomulin', 'Ramicane', 'Infubinol', 'Ceftamin']\n",
      "['Capomulin', 'Ramicane', 'Infubinol', 'Ceftamin']\n",
      "['Capomulin', 'Ramicane', 'Infubinol', 'Ceftamin']\n",
      "['Capomulin', 'Ramicane', 'Infubinol', 'Ceftamin']\n",
      "['Capomulin', 'Ramicane', 'Infubinol', 'Ceftamin']\n",
      "['Capomulin', 'Ramicane', 'Infubinol', 'Ceftamin']\n"
     ]
    }
   ],
   "source": [
    "for drug in drugs_in_study:\n",
    "#    if drugs_in_study ['Drug Regimen']==drugs\n",
    "    print(drugs) \n",
    "    # 2 list where one is all of the drugs\n",
    "    # the other is "
   ]
  },
  {
   "cell_type": "code",
   "execution_count": 260,
   "metadata": {},
   "outputs": [
    {
     "data": {
      "text/html": [
       "<div>\n",
       "<style scoped>\n",
       "    .dataframe tbody tr th:only-of-type {\n",
       "        vertical-align: middle;\n",
       "    }\n",
       "\n",
       "    .dataframe tbody tr th {\n",
       "        vertical-align: top;\n",
       "    }\n",
       "\n",
       "    .dataframe thead th {\n",
       "        text-align: right;\n",
       "    }\n",
       "</style>\n",
       "<table border=\"1\" class=\"dataframe\">\n",
       "  <thead>\n",
       "    <tr style=\"text-align: right;\">\n",
       "      <th></th>\n",
       "      <th>Mouse ID</th>\n",
       "      <th>Drug Regimen</th>\n",
       "      <th>Sex</th>\n",
       "      <th>Age_months</th>\n",
       "      <th>Weight (g)</th>\n",
       "      <th>Timepoint</th>\n",
       "      <th>Tumor Volume (mm3)</th>\n",
       "      <th>Metastatic Sites</th>\n",
       "    </tr>\n",
       "  </thead>\n",
       "  <tbody>\n",
       "    <tr>\n",
       "      <th>0</th>\n",
       "      <td>k403</td>\n",
       "      <td>Ramicane</td>\n",
       "      <td>Male</td>\n",
       "      <td>21</td>\n",
       "      <td>16</td>\n",
       "      <td>0</td>\n",
       "      <td>45.000000</td>\n",
       "      <td>0</td>\n",
       "    </tr>\n",
       "    <tr>\n",
       "      <th>1</th>\n",
       "      <td>k403</td>\n",
       "      <td>Ramicane</td>\n",
       "      <td>Male</td>\n",
       "      <td>21</td>\n",
       "      <td>16</td>\n",
       "      <td>5</td>\n",
       "      <td>38.825898</td>\n",
       "      <td>0</td>\n",
       "    </tr>\n",
       "    <tr>\n",
       "      <th>2</th>\n",
       "      <td>k403</td>\n",
       "      <td>Ramicane</td>\n",
       "      <td>Male</td>\n",
       "      <td>21</td>\n",
       "      <td>16</td>\n",
       "      <td>10</td>\n",
       "      <td>35.014271</td>\n",
       "      <td>1</td>\n",
       "    </tr>\n",
       "    <tr>\n",
       "      <th>3</th>\n",
       "      <td>k403</td>\n",
       "      <td>Ramicane</td>\n",
       "      <td>Male</td>\n",
       "      <td>21</td>\n",
       "      <td>16</td>\n",
       "      <td>15</td>\n",
       "      <td>34.223992</td>\n",
       "      <td>1</td>\n",
       "    </tr>\n",
       "    <tr>\n",
       "      <th>4</th>\n",
       "      <td>k403</td>\n",
       "      <td>Ramicane</td>\n",
       "      <td>Male</td>\n",
       "      <td>21</td>\n",
       "      <td>16</td>\n",
       "      <td>20</td>\n",
       "      <td>32.997729</td>\n",
       "      <td>1</td>\n",
       "    </tr>\n",
       "    <tr>\n",
       "      <th>...</th>\n",
       "      <td>...</td>\n",
       "      <td>...</td>\n",
       "      <td>...</td>\n",
       "      <td>...</td>\n",
       "      <td>...</td>\n",
       "      <td>...</td>\n",
       "      <td>...</td>\n",
       "      <td>...</td>\n",
       "    </tr>\n",
       "    <tr>\n",
       "      <th>449</th>\n",
       "      <td>w678</td>\n",
       "      <td>Ramicane</td>\n",
       "      <td>Female</td>\n",
       "      <td>5</td>\n",
       "      <td>24</td>\n",
       "      <td>5</td>\n",
       "      <td>43.166373</td>\n",
       "      <td>0</td>\n",
       "    </tr>\n",
       "    <tr>\n",
       "      <th>450</th>\n",
       "      <td>y449</td>\n",
       "      <td>Ramicane</td>\n",
       "      <td>Male</td>\n",
       "      <td>19</td>\n",
       "      <td>24</td>\n",
       "      <td>0</td>\n",
       "      <td>45.000000</td>\n",
       "      <td>0</td>\n",
       "    </tr>\n",
       "    <tr>\n",
       "      <th>451</th>\n",
       "      <td>y449</td>\n",
       "      <td>Ramicane</td>\n",
       "      <td>Male</td>\n",
       "      <td>19</td>\n",
       "      <td>24</td>\n",
       "      <td>5</td>\n",
       "      <td>45.877545</td>\n",
       "      <td>0</td>\n",
       "    </tr>\n",
       "    <tr>\n",
       "      <th>452</th>\n",
       "      <td>y449</td>\n",
       "      <td>Ramicane</td>\n",
       "      <td>Male</td>\n",
       "      <td>19</td>\n",
       "      <td>24</td>\n",
       "      <td>10</td>\n",
       "      <td>46.378092</td>\n",
       "      <td>0</td>\n",
       "    </tr>\n",
       "    <tr>\n",
       "      <th>453</th>\n",
       "      <td>y449</td>\n",
       "      <td>Ramicane</td>\n",
       "      <td>Male</td>\n",
       "      <td>19</td>\n",
       "      <td>24</td>\n",
       "      <td>15</td>\n",
       "      <td>44.183451</td>\n",
       "      <td>0</td>\n",
       "    </tr>\n",
       "  </tbody>\n",
       "</table>\n",
       "<p>228 rows × 8 columns</p>\n",
       "</div>"
      ],
      "text/plain": [
       "    Mouse ID Drug Regimen     Sex  Age_months  Weight (g)  Timepoint  \\\n",
       "0       k403     Ramicane    Male          21          16          0   \n",
       "1       k403     Ramicane    Male          21          16          5   \n",
       "2       k403     Ramicane    Male          21          16         10   \n",
       "3       k403     Ramicane    Male          21          16         15   \n",
       "4       k403     Ramicane    Male          21          16         20   \n",
       "..       ...          ...     ...         ...         ...        ...   \n",
       "449     w678     Ramicane  Female           5          24          5   \n",
       "450     y449     Ramicane    Male          19          24          0   \n",
       "451     y449     Ramicane    Male          19          24          5   \n",
       "452     y449     Ramicane    Male          19          24         10   \n",
       "453     y449     Ramicane    Male          19          24         15   \n",
       "\n",
       "     Tumor Volume (mm3)  Metastatic Sites  \n",
       "0             45.000000                 0  \n",
       "1             38.825898                 0  \n",
       "2             35.014271                 1  \n",
       "3             34.223992                 1  \n",
       "4             32.997729                 1  \n",
       "..                  ...               ...  \n",
       "449           43.166373                 0  \n",
       "450           45.000000                 0  \n",
       "451           45.877545                 0  \n",
       "452           46.378092                 0  \n",
       "453           44.183451                 0  \n",
       "\n",
       "[228 rows x 8 columns]"
      ]
     },
     "execution_count": 260,
     "metadata": {},
     "output_type": "execute_result"
    }
   ],
   "source": [
    "# Put treatments into a list for for loop (and later for plot labels)\n",
    "# Create a list of the drugs in the study\n",
    "drug_regimen_list=['Capomulin', 'Ceftamin', 'Infubinol', 'Ramicane']\n",
    "\n",
    "# Create empty list to fill with tumor vol data (for plotting)\n",
    "drug_regimen_data=[]\n",
    "tumor_vol_list=[]\n",
    "\n",
    "for drug in drug_regimen_list:\n",
    "   drug_trial_df= cleaned_df[cleaned_df['Drug Regimen']==drug]\n",
    "drug_trial_df\n",
    "    \n",
    "\n",
    "\n",
    "# Calculate the IQR and quantitatively determine if there are any potential outliers.  \n",
    "# This is what they want you to do overall. # calculate the iqr for each one of the drugs in the list\n",
    "\n",
    "  \n",
    "    # Locate the rows which contain mice on each drug and get the tumor volumes\n",
    "    \n",
    "    \n",
    "    # add subset \n",
    "    \n",
    "    \n",
    "    # Determine outliers using upper and lower bounds\n",
    "#quartiles = drugs_in_study.quantile([.25,.5,.75])\n",
    "#print(f\"The lower quartile of temperatures is: {lowerq}\")\n",
    "#print(f\"The upper quartile of temperatures is: {upperq}\")\n",
    "#print(f\"The interquartile range of temperatures is: {iqr}\")\n",
    "#print(f\"The the median of temperatures is: {quartiles[0.5]} \")"
   ]
  },
  {
   "cell_type": "code",
   "execution_count": 15,
   "metadata": {},
   "outputs": [],
   "source": [
    "# Generate a box plot of the final tumor volume of each mouse across four regimens of interest\n"
   ]
  },
  {
   "cell_type": "markdown",
   "metadata": {},
   "source": [
    "## Line and Scatter Plots"
   ]
  },
  {
   "cell_type": "code",
   "execution_count": 16,
   "metadata": {},
   "outputs": [],
   "source": [
    "# Generate a line plot of tumor volume vs. time point for a mouse treated with Capomulin\n"
   ]
  },
  {
   "cell_type": "code",
   "execution_count": 17,
   "metadata": {},
   "outputs": [],
   "source": [
    "# Generate a scatter plot of average tumor volume vs. mouse weight for the Capomulin regimen\n",
    "\n",
    "# MPG Unsolved notes on difference between plt and plot method using scattter plot method"
   ]
  },
  {
   "cell_type": "markdown",
   "metadata": {},
   "source": [
    "## Correlation and Regression"
   ]
  },
  {
   "cell_type": "code",
   "execution_count": 18,
   "metadata": {},
   "outputs": [],
   "source": [
    "# Calculate the correlation coefficient and linear regression model \n",
    "# for mouse weight and average tumor volume for the Capomulin regimen\n"
   ]
  },
  {
   "cell_type": "code",
   "execution_count": null,
   "metadata": {},
   "outputs": [],
   "source": []
  }
 ],
 "metadata": {
  "anaconda-cloud": {},
  "kernelspec": {
   "display_name": "Python 3",
   "language": "python",
   "name": "python3"
  },
  "language_info": {
   "codemirror_mode": {
    "name": "ipython",
    "version": 3
   },
   "file_extension": ".py",
   "mimetype": "text/x-python",
   "name": "python",
   "nbconvert_exporter": "python",
   "pygments_lexer": "ipython3",
   "version": "3.8.3"
  }
 },
 "nbformat": 4,
 "nbformat_minor": 4
}
